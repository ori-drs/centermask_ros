{
 "cells": [
  {
   "cell_type": "code",
   "execution_count": 1,
   "id": "f4382c0f",
   "metadata": {},
   "outputs": [],
   "source": [
    "%config Completer.use_jedi = False\n",
    "%matplotlib inline\n",
    "\n",
    "#!/usr/bin/env python\n",
    "import sys\n",
    "import threading\n",
    "import time\n",
    "\n",
    "import cv2 as cv\n",
    "import numpy as np\n",
    "\n",
    "from centermask.config import get_cfg\n",
    "from detectron2.data import MetadataCatalog\n",
    "from cv_bridge import CvBridge, CvBridgeError\n",
    "\n",
    "# import some common detectron2 utilities\n",
    "from detectron2.engine import DefaultPredictor\n",
    "from detectron2.utils.logger import setup_logger\n",
    "from detectron2.utils.visualizer import Visualizer\n",
    "from detectron2_ros.msg import Result\n",
    "from sensor_msgs.msg import Image, RegionOfInterest, CameraInfo\n",
    "import pyrealsense2 as rs2\n",
    "\n",
    "# from detectron2_ros.msg import PersonPositions, PersonPosition\n",
    "from finean_msgs.msg import PersonPositions, PersonPosition\n",
    "\n",
    "# For sync depth and rgb\n",
    "import message_filters\n",
    "\n",
    "\n",
    "# Needed to update backbone registry\n",
    "import centermask.modeling.backbone\n",
    "\n",
    "\n",
    "# For the dataset loading\n",
    "from os import listdir\n",
    "from os.path import isfile, join\n",
    "import csv\n",
    "\n",
    "from tqdm import tqdm\n",
    "import matplotlib.pyplot as plt"
   ]
  },
  {
   "cell_type": "code",
   "execution_count": 2,
   "id": "c13d30dd",
   "metadata": {},
   "outputs": [],
   "source": [
    "def euler_to_rotMat(yaw, pitch, roll):\n",
    "    Rz_yaw = np.array([\n",
    "        [np.cos(yaw), -np.sin(yaw), 0],\n",
    "        [np.sin(yaw),  np.cos(yaw), 0],\n",
    "        [          0,            0, 1]])\n",
    "    Ry_pitch = np.array([\n",
    "        [ np.cos(pitch), 0, np.sin(pitch)],\n",
    "        [             0, 1,             0],\n",
    "        [-np.sin(pitch), 0, np.cos(pitch)]])\n",
    "    Rx_roll = np.array([\n",
    "        [1,            0,             0],\n",
    "        [0, np.cos(roll), -np.sin(roll)],\n",
    "        [0, np.sin(roll),  np.cos(roll)]])\n",
    "    # R = RzRyRx\n",
    "    rotMat = np.dot(Rz_yaw, np.dot(Ry_pitch, Rx_roll))\n",
    "    return rotMat\n",
    "\n"
   ]
  },
  {
   "cell_type": "code",
   "execution_count": 3,
   "id": "0161b30e",
   "metadata": {},
   "outputs": [],
   "source": [
    "def get_iou(bb1, bb2):\n",
    "    \"\"\"\n",
    "    Calculate the Intersection over Union (IoU) of two bounding boxes.\n",
    "\n",
    "    Parameters\n",
    "    ----------\n",
    "    bb1 : dict\n",
    "        Keys: {'x1', 'x2', 'y1', 'y2'}\n",
    "        The (x1, y1) position is at the top left corner,\n",
    "        the (x2, y2) position is at the bottom right corner\n",
    "    bb2 : dict\n",
    "        Keys: {'x1', 'x2', 'y1', 'y2'}\n",
    "        The (x, y) position is at the top left corner,\n",
    "        the (x2, y2) position is at the bottom right corner\n",
    "\n",
    "    Returns\n",
    "    -------\n",
    "    float\n",
    "        in [0, 1]\n",
    "    \"\"\"\n",
    "    assert bb1['x1'] < bb1['x2']\n",
    "    assert bb1['y1'] < bb1['y2']\n",
    "    assert bb2['x1'] < bb2['x2']\n",
    "    assert bb2['y1'] < bb2['y2']\n",
    "\n",
    "    # determine the coordinates of the intersection rectangle\n",
    "    x_left = max(bb1['x1'], bb2['x1'])\n",
    "    y_top = max(bb1['y1'], bb2['y1'])\n",
    "    x_right = min(bb1['x2'], bb2['x2'])\n",
    "    y_bottom = min(bb1['y2'], bb2['y2'])\n",
    "\n",
    "    if x_right < x_left or y_bottom < y_top:\n",
    "        return 0.0\n",
    "\n",
    "    # The intersection of two axis-aligned bounding boxes is always an\n",
    "    # axis-aligned bounding box.\n",
    "    # NOTE: We MUST ALWAYS add +1 to calculate area when working in\n",
    "    # screen coordinates, since 0,0 is the top left pixel, and w-1,h-1\n",
    "    # is the bottom right pixel. If we DON'T add +1, the result is wrong.\n",
    "    intersection_area = (x_right - x_left + 1) * (y_bottom - y_top + 1)\n",
    "\n",
    "    # compute the area of both AABBs\n",
    "    bb1_area = (bb1['x2'] - bb1['x1'] + 1) * (bb1['y2'] - bb1['y1'] + 1)\n",
    "    bb2_area = (bb2['x2'] - bb2['x1'] + 1) * (bb2['y2'] - bb2['y1'] + 1)\n",
    "\n",
    "    # compute the intersection over union by taking the intersection\n",
    "    # area and dividing it by the sum of prediction + ground-truth\n",
    "    # areas - the interesection area\n",
    "    iou = intersection_area / float(bb1_area + bb2_area - intersection_area)\n",
    "    assert iou >= 0.0\n",
    "    assert iou <= 1.0\n",
    "    return iou"
   ]
  },
  {
   "cell_type": "code",
   "execution_count": 4,
   "id": "1b2b05f2",
   "metadata": {},
   "outputs": [],
   "source": [
    "class KTPAnalyser(object):\n",
    "    def __init__(self, depth_offset=100):\n",
    "        print(\"Initializing\")\n",
    "        setup_logger()\n",
    "\n",
    "        self._bridge = CvBridge()\n",
    "        self.score_thresh = 0.50\n",
    "        self.removal_classes = ['person']\n",
    "\n",
    "        self.cfg = get_cfg()\n",
    "        self.cfg.merge_from_file(\"/root/centermask2/configs/centermask/centermask_lite_V_39_eSE_FPN_ms_4x.yaml\")\n",
    "        self.cfg.MODEL.ROI_HEADS.SCORE_THRESH_TEST = 0.8 # set threshold for this model\n",
    "        self.cfg.MODEL.WEIGHTS = \"/root/centermask2-lite-V-39-eSE-FPN-ms-4x.pth\"\n",
    "        self.predictor = DefaultPredictor(self.cfg)\n",
    "        self._class_names = MetadataCatalog.get(self.cfg.DATASETS.TRAIN[0]).get(\"thing_classes\", None)\n",
    "        \n",
    "        self.getManualKinectIntrinsics()\n",
    "\n",
    "        self.base_T_rgb = np.eye(4)\n",
    "        self.base_T_rgb[0:3,3] = np.array([-0.27, 1.271, 0.002])\n",
    "        self.base_T_rgb[0:3,0:3] = euler_to_rotMat(-3.142, -0.001, -1.651)\n",
    "        self.base_T_rgb = np.linalg.inv(self.base_T_rgb)\n",
    "        \n",
    "        self.depth_offset = depth_offset\n",
    "        \n",
    "        print(\"Centermask2 Node Initialized\")\n",
    "\n",
    "    def convertPixelToPosition(self, depth_img, mask):\n",
    "        # Get the pixel location and depth of person centroid\n",
    "\n",
    "        mask_positions_2d = np.argwhere(mask==True)\n",
    "        approx_head_thresh = np.quantile(mask_positions_2d[:,0], 0.10)\n",
    "        head_pos_mask = mask_positions_2d[:,0] < approx_head_thresh\n",
    "\n",
    "        count = (head_pos_mask == 1).sum()\n",
    "\n",
    "        y_center, x_center = mask_positions_2d[head_pos_mask, :].sum(0)/count\n",
    "        \n",
    "        y_thresh_mask = (np.argwhere((mask == True) | (mask == False))[:,0] < approx_head_thresh)\n",
    "        y_thresh_mask = y_thresh_mask.reshape((480,640))\n",
    "        \n",
    "        head_mask = mask & y_thresh_mask\n",
    "        \n",
    "#         plt_img = np.zeros(depth_img.shape)\n",
    "#         plt_img[head_mask.astype(bool)] = 1\n",
    "#         plt.imshow(plt_img)\n",
    "#         return\n",
    "#         y_center, x_center = np.argwhere(mask==True).sum(0)/count\n",
    "#         depth = np.median(depth_img[mask.astype(bool)]) + self.depth_offset\n",
    "\n",
    "        non_zero_depth = depth_img[head_mask.astype(bool)]\n",
    "        non_zero_depth = non_zero_depth[non_zero_depth>0]\n",
    "        depth = np.median(non_zero_depth) + analyser.depth_offset\n",
    "#         print(depth)\n",
    "\n",
    "        # Convert to 3D position in camera coords \n",
    "        xyz = rs2.rs2_deproject_pixel_to_point(self.intrinsics, [x_center, y_center], depth/1000.0)\n",
    "        \n",
    "#         print(\"pixel [x,y, depth]\")\n",
    "#         print([x_center, y_center, depth])\n",
    "        # return xyz\n",
    "        return xyz\n",
    "\n",
    "    def getManualKinectIntrinsics(self):\n",
    "        # D: [0.0, 0.0, 0.0, 0.0, 0.0]\n",
    "        # K: [525.0, 0.0, 319.5, 0.0, 525.0, 239.5, 0.0, 0.0, 1.0]\n",
    "        # R: [1.0, 0.0, 0.0, 0.0, 1.0, 0.0, 0.0, 0.0, 1.0]\n",
    "        # P: [525.0, 0.0, 319.5, 0.0, 0.0, 525.0, 239.5, 0.0, 0.0, 0.0, 1.0, 0.0]\n",
    "\n",
    "\n",
    "        print(\"Updating camera info\")\n",
    "\n",
    "        self.intrinsics = rs2.intrinsics()\n",
    "        self.intrinsics.width = 640\n",
    "        self.intrinsics.height = 480\n",
    "        self.intrinsics.ppx = 319.5\n",
    "        self.intrinsics.ppy = 239.5\n",
    "        self.intrinsics.fx = 525.0\n",
    "        self.intrinsics.fy = 525.0\n",
    "        self.intrinsics.model = rs2.distortion.brown_conrady\n",
    "\n",
    "    def run(self, rgb_file, depth_file, robot_pose):\n",
    "\n",
    "        world_T_base = np.eye(4)\n",
    "        world_T_base[0:3,3] = np.array([robot_pose[0], robot_pose[1], robot_pose[2]])\n",
    "        \n",
    "#         print(robot_pose)\n",
    "        world_T_base[0:3,0:3] = euler_to_rotMat(robot_pose[5], robot_pose[4], robot_pose[3])   \n",
    "         \n",
    "        # Convert images\n",
    "        np_image = cv.imread(rgb_file)\n",
    "        np_depth_image = cv.imread(depth_file, cv.IMREAD_ANYDEPTH)\n",
    "\n",
    "        np_depth_image_copy = np.zeros(np_depth_image.shape)\n",
    "        \n",
    "        # Get the masks and objects seen\n",
    "        outputs = self.predictor(np_image)\n",
    "        result = outputs[\"instances\"].to(\"cpu\")\n",
    "        \n",
    "#         result_msg = self.getResult(result)\n",
    "        \n",
    "        # Mask out people with score greater than threshold\n",
    "        class_ids = result.pred_classes if result.has(\"pred_classes\") else None\n",
    "        class_names = np.array(self._class_names)[class_ids.numpy()]        \n",
    "        retain_inds = (result.scores.numpy() > self.score_thresh) & (class_names == 'person')\n",
    "        result = result[retain_inds]\n",
    "\n",
    "        num_inds = sum(retain_inds)\n",
    "#         print(\"Number of masks: {0}\".format(num_inds))\n",
    "\n",
    "#         boxes = result.pred_boxes if result.has(\"pred_boxes\") else None\n",
    "#         for i, (x1, y1, x2, y2) in enumerate(boxes):\n",
    "#             continue\n",
    "    \n",
    "        positions_3d_world = []\n",
    "        if num_inds > 0:\n",
    "            masks = np.asarray(result.pred_masks)\n",
    "            for i in range(num_inds):\n",
    "                mask = masks[i]\n",
    "                person_position = self.convertPixelToPosition(np_depth_image, mask)\n",
    "#                 print(person_position)\n",
    "                np_depth_image_copy[mask] = 1\n",
    "                \n",
    "                # Convert to world frame                 \n",
    "                head_T_person = np.eye(4)\n",
    "                head_T_person[0:3,3] = [person_position[0], person_position[1], person_position[2]]\n",
    "                \n",
    "\n",
    "                world_T_head = np.dot(world_T_base, self.base_T_rgb)\n",
    "                world_T_person = np.dot(world_T_head, head_T_person)\n",
    "\n",
    "                world_xyz = world_T_person[0:3,3]\n",
    "#                 print('{0. 2f},{1. 2f},{2. 2f}'.format(world_xyz[0],world_xyz[1],world_xyz[2]))\n",
    "#                 print([\"{0:0.2f}\".format(i) for i in world_xyz])\n",
    "#                 print(\"{0:0.2f}, {1:0.2f}, {2:0.2f}\".format(world_xyz[0], world_xyz[1], world_xyz[2]))\n",
    "                positions_3d_world.append(world_xyz)\n",
    "        \n",
    "#         plt.imshow(np_depth_image_copy)\n",
    "      \n",
    "#         v = Visualizer(np_image[:, :, ::-1], MetadataCatalog.get(self.cfg.DATASETS.TRAIN[0]), scale=1.2)\n",
    "#         v = v.draw_instance_predictions(result)\n",
    "#         img = v.get_image()[:, :, ::-1]\n",
    "#         plt.imshow(img)\n",
    "            \n",
    "#         print(\"Allpositions extracted...\")\n",
    "        return [result, positions_3d_world]\n",
    "    \n",
    "    def getResult(self, predictions):\n",
    "\n",
    "        boxes = predictions.pred_boxes if predictions.has(\"pred_boxes\") else None\n",
    "\n",
    "        if predictions.has(\"pred_masks\"):\n",
    "            masks = np.asarray(predictions.pred_masks)\n",
    "        else:\n",
    "            return\n",
    "\n",
    "        result_msg = Result()\n",
    "        result_msg.class_ids = predictions.pred_classes if predictions.has(\"pred_classes\") else None\n",
    "        result_msg.class_names = np.array(self._class_names)[result_msg.class_ids.numpy()]\n",
    "        result_msg.scores = predictions.scores if predictions.has(\"scores\") else None\n",
    "\n",
    "        for i, (x1, y1, x2, y2) in enumerate(boxes):\n",
    "            mask = np.zeros(masks[i].shape, dtype=\"uint8\")\n",
    "            mask[masks[i, :, :]]=255\n",
    "            mask = self._bridge.cv2_to_imgmsg(mask)\n",
    "            result_msg.masks.append(mask)\n",
    "\n",
    "            box = RegionOfInterest()\n",
    "            box.x_offset = np.uint32(x1)\n",
    "            box.y_offset = np.uint32(y1)\n",
    "            box.height = np.uint32(y2 - y1)\n",
    "            box.width = np.uint32(x2 - x1)\n",
    "            result_msg.boxes.append(box)\n",
    "\n",
    "        return result_msg\n",
    "    \n",
    "\n",
    "    @staticmethod\n",
    "    def load_param(param, default=None):\n",
    "        new_param = rospy.get_param(param, default)\n",
    "        rospy.loginfo(\"[Centermask2] %s: %s\", param, new_param)\n",
    "        return new_param"
   ]
  },
  {
   "cell_type": "code",
   "execution_count": 5,
   "id": "f511f2e8",
   "metadata": {},
   "outputs": [],
   "source": [
    "def isMatch(gt_poses, est_pose):\n",
    "    min_dist = 10000\n",
    "    for i in range(len(gt_poses)):\n",
    "        dist = np.sqrt(np.sum(np.square(np.array(gt_poses[i][1:3], dtype=float) - est_pose[0:2])))\n",
    "        min_dist = min(min_dist, dist)\n",
    "    \n",
    "    match = False\n",
    "    if min_dist < 0.3:\n",
    "        match = True\n",
    "        \n",
    "    return [match, min_dist]"
   ]
  },
  {
   "cell_type": "code",
   "execution_count": 6,
   "id": "5b089712",
   "metadata": {},
   "outputs": [],
   "source": [
    "# Still   \n",
    "timestamp_bounds_dict = {}\n",
    "\n",
    "timestamp_bounds_dict['Still'] = {0:[1339064317.986969085, 1339064331.038245693],\n",
    "1:[1339064331.768289875, 1339064360.067097068],\n",
    "2:[1339064362.503071436, 1339064366.710322787],\n",
    "3:[1339064369.814646105, 1339064371.979220992],\n",
    "4:[1339064375.185916521, 1339064388.595394236]}\n",
    "\n",
    "# Rotation\n",
    "timestamp_bounds_dict['Rotation'] = {0:[1339072026.143797066, 1339072036.622872171],\n",
    "1:[1339072038.992151379, 1339072070.026229981],\n",
    "2:[1339072070.060515464, 1339072074.762523787],\n",
    "3:[1339072078.269397000, 1339072080.104408822],\n",
    "4:[1339072083.473387965, 1339072097.586308065]}\n",
    "\n",
    "# Translation\n",
    "timestamp_bounds_dict['Translation'] = {0:[1339066241.703633641, 1339066253.713979618],\n",
    "1:[1339066255.481776113, 1339066282.147084186],\n",
    "2:[1339066282.215393574, 1339066286.951295705],\n",
    "3:[1339066289.056906724, 1339066291.324039606],\n",
    "4:[1339066294.858379375, 1339066308.207410858]}\n",
    "\n",
    "# Arc\n",
    "timestamp_bounds_dict['Arc'] = {0:[1339072455.526836838, 1339072466.069116626],\n",
    "1:[1339072472.977563961, 1339072494.467989678],\n",
    "2:[1339072496.437215469, 1339072501.409138958],\n",
    "3:[1339072504.309639787, 1339072506.784084572],\n",
    "4:[1339072510.552881349, 1339072524.867087399]}"
   ]
  },
  {
   "cell_type": "code",
   "execution_count": 7,
   "id": "5cd8fa81",
   "metadata": {},
   "outputs": [],
   "source": [
    "def getTaskList(full_list, lower_t, upper_t):\n",
    "    task_list = []\n",
    "    for t in full_list:\n",
    "        if ( float(t) <= upper_t_bound) & (float(t) >= lower_t_bound):\n",
    "            task_list.append(t)\n",
    "    return task_list"
   ]
  },
  {
   "cell_type": "code",
   "execution_count": 11,
   "id": "8784bdab",
   "metadata": {},
   "outputs": [
    {
     "name": "stdout",
     "output_type": "stream",
     "text": [
      "Initializing\n",
      "\u001b[5m\u001b[31mWARNING\u001b[0m \u001b[32m[10/18 19:35:05 d2.config.compat]: \u001b[0mConfig '/root/centermask2/configs/centermask/centermask_lite_V_39_eSE_FPN_ms_4x.yaml' has no VERSION. Assuming it to be compatible with latest v2.\n",
      "Updating camera info\n",
      "Centermask2 Node Initialized\n"
     ]
    },
    {
     "name": "stderr",
     "output_type": "stream",
     "text": [
      " 22%|██▏       | 46/212 [00:03<00:12, 13.31it/s]"
     ]
    },
    {
     "name": "stdout",
     "output_type": "stream",
     "text": [
      "Video: Still \t t_stamp: 1339064377.187062474\n",
      "Video: Still \t t_stamp: 1339064377.221175088\n",
      "Video: Still \t t_stamp: 1339064377.254599373\n"
     ]
    },
    {
     "name": "stderr",
     "output_type": "stream",
     "text": [
      "\r",
      " 23%|██▎       | 48/212 [00:03<00:12, 13.07it/s]"
     ]
    },
    {
     "name": "stdout",
     "output_type": "stream",
     "text": [
      "Video: Still \t t_stamp: 1339064377.287785292\n",
      "Video: Still \t t_stamp: 1339064377.320802203\n",
      "Video: Still \t t_stamp: 1339064377.354114964\n"
     ]
    },
    {
     "name": "stderr",
     "output_type": "stream",
     "text": [
      " 25%|██▍       | 52/212 [00:04<00:12, 12.57it/s]"
     ]
    },
    {
     "name": "stdout",
     "output_type": "stream",
     "text": [
      "Video: Still \t t_stamp: 1339064377.386270981\n",
      "Video: Still \t t_stamp: 1339064377.426377495\n",
      "Video: Still \t t_stamp: 1339064377.451632798\n"
     ]
    },
    {
     "name": "stderr",
     "output_type": "stream",
     "text": [
      " 30%|███       | 64/212 [00:04<00:11, 12.79it/s]"
     ]
    },
    {
     "name": "stdout",
     "output_type": "stream",
     "text": [
      "Video: Still \t t_stamp: 1339064377.820306397\n",
      "Video: Still \t t_stamp: 1339064377.851849865\n",
      "Video: Still \t t_stamp: 1339064377.885823557\n"
     ]
    },
    {
     "name": "stderr",
     "output_type": "stream",
     "text": [
      " 32%|███▏      | 68/212 [00:05<00:11, 12.28it/s]"
     ]
    },
    {
     "name": "stdout",
     "output_type": "stream",
     "text": [
      "Video: Still \t t_stamp: 1339064377.921819676\n",
      "Video: Still \t t_stamp: 1339064377.954900375\n",
      "Video: Still \t t_stamp: 1339064377.985448716\n"
     ]
    },
    {
     "name": "stderr",
     "output_type": "stream",
     "text": [
      "\r",
      " 33%|███▎      | 70/212 [00:05<00:11, 12.15it/s]"
     ]
    },
    {
     "name": "stdout",
     "output_type": "stream",
     "text": [
      "Video: Still \t t_stamp: 1339064378.019406377\n",
      "Video: Still \t t_stamp: 1339064378.051874494\n",
      "Video: Still \t t_stamp: 1339064378.087866367\n"
     ]
    },
    {
     "name": "stderr",
     "output_type": "stream",
     "text": [
      " 35%|███▍      | 74/212 [00:05<00:11, 11.90it/s]"
     ]
    },
    {
     "name": "stdout",
     "output_type": "stream",
     "text": [
      "Video: Still \t t_stamp: 1339064378.124748882\n",
      "Video: Still \t t_stamp: 1339064378.152059583\n",
      "Video: Still \t t_stamp: 1339064378.188862698\n"
     ]
    },
    {
     "name": "stderr",
     "output_type": "stream",
     "text": [
      "\r",
      " 36%|███▌      | 76/212 [00:06<00:11, 11.60it/s]"
     ]
    },
    {
     "name": "stdout",
     "output_type": "stream",
     "text": [
      "Video: Still \t t_stamp: 1339064378.219739217\n",
      "Video: Still \t t_stamp: 1339064378.252026173\n",
      "Video: Still \t t_stamp: 1339064378.287874969\n"
     ]
    },
    {
     "name": "stderr",
     "output_type": "stream",
     "text": [
      " 38%|███▊      | 80/212 [00:06<00:11, 11.62it/s]"
     ]
    },
    {
     "name": "stdout",
     "output_type": "stream",
     "text": [
      "Video: Still \t t_stamp: 1339064378.320095741\n",
      "Video: Still \t t_stamp: 1339064378.352733207\n",
      "Video: Still \t t_stamp: 1339064378.387049594\n"
     ]
    },
    {
     "name": "stderr",
     "output_type": "stream",
     "text": [
      "\r",
      " 39%|███▊      | 82/212 [00:06<00:11, 11.65it/s]"
     ]
    },
    {
     "name": "stdout",
     "output_type": "stream",
     "text": [
      "Video: Still \t t_stamp: 1339064378.421473548\n",
      "Video: Still \t t_stamp: 1339064378.451778809\n",
      "Video: Still \t t_stamp: 1339064378.487142936\n"
     ]
    },
    {
     "name": "stderr",
     "output_type": "stream",
     "text": [
      " 41%|████      | 86/212 [00:06<00:11, 11.31it/s]"
     ]
    },
    {
     "name": "stdout",
     "output_type": "stream",
     "text": [
      "Video: Still \t t_stamp: 1339064378.519687360\n",
      "Video: Still \t t_stamp: 1339064378.551556655\n",
      "Video: Still \t t_stamp: 1339064378.587171974\n"
     ]
    },
    {
     "name": "stderr",
     "output_type": "stream",
     "text": [
      " 43%|████▎     | 92/212 [00:07<00:10, 11.41it/s]"
     ]
    },
    {
     "name": "stdout",
     "output_type": "stream",
     "text": [
      "Video: Still \t t_stamp: 1339064378.751516013\n",
      "Video: Still \t t_stamp: 1339064378.787165331\n",
      "Video: Still \t t_stamp: 1339064378.822264386\n"
     ]
    },
    {
     "name": "stderr",
     "output_type": "stream",
     "text": [
      " 45%|████▌     | 96/212 [00:07<00:09, 11.71it/s]"
     ]
    },
    {
     "name": "stdout",
     "output_type": "stream",
     "text": [
      "Video: Still \t t_stamp: 1339064378.852239196\n"
     ]
    },
    {
     "name": "stderr",
     "output_type": "stream",
     "text": [
      " 47%|████▋     | 100/212 [00:08<00:09, 11.82it/s]"
     ]
    },
    {
     "name": "stdout",
     "output_type": "stream",
     "text": [
      "Video: Still \t t_stamp: 1339064379.020088172\n",
      "Video: Still \t t_stamp: 1339064379.053623548\n",
      "Video: Still \t t_stamp: 1339064379.087965419\n"
     ]
    },
    {
     "name": "stderr",
     "output_type": "stream",
     "text": [
      " 49%|████▉     | 104/212 [00:08<00:09, 11.69it/s]"
     ]
    },
    {
     "name": "stdout",
     "output_type": "stream",
     "text": [
      "Video: Still \t t_stamp: 1339064379.119688158\n",
      "Video: Still \t t_stamp: 1339064379.151607847\n",
      "Video: Still \t t_stamp: 1339064379.187741779\n"
     ]
    },
    {
     "name": "stderr",
     "output_type": "stream",
     "text": [
      "\r",
      " 50%|█████     | 106/212 [00:08<00:09, 11.59it/s]"
     ]
    },
    {
     "name": "stdout",
     "output_type": "stream",
     "text": [
      "Video: Still \t t_stamp: 1339064379.220581326\n",
      "Video: Still \t t_stamp: 1339064379.288024562\n"
     ]
    },
    {
     "name": "stderr",
     "output_type": "stream",
     "text": [
      " 52%|█████▏    | 110/212 [00:08<00:08, 11.54it/s]"
     ]
    },
    {
     "name": "stdout",
     "output_type": "stream",
     "text": [
      "Video: Still \t t_stamp: 1339064379.320383899\n",
      "Video: Still \t t_stamp: 1339064379.355011744\n",
      "Video: Still \t t_stamp: 1339064379.389242210\n"
     ]
    },
    {
     "name": "stderr",
     "output_type": "stream",
     "text": [
      " 55%|█████▍    | 116/212 [00:09<00:08, 11.62it/s]"
     ]
    },
    {
     "name": "stdout",
     "output_type": "stream",
     "text": [
      "Video: Still \t t_stamp: 1339064379.555854145\n",
      "Video: Still \t t_stamp: 1339064379.587049079\n",
      "Video: Still \t t_stamp: 1339064379.619884008\n"
     ]
    },
    {
     "name": "stderr",
     "output_type": "stream",
     "text": [
      " 58%|█████▊    | 122/212 [00:09<00:07, 11.35it/s]"
     ]
    },
    {
     "name": "stdout",
     "output_type": "stream",
     "text": [
      "Video: Still \t t_stamp: 1339064379.722880034\n"
     ]
    },
    {
     "name": "stderr",
     "output_type": "stream",
     "text": [
      "\r",
      " 58%|█████▊    | 124/212 [00:10<00:08, 10.72it/s]"
     ]
    },
    {
     "name": "stdout",
     "output_type": "stream",
     "text": [
      "Video: Still \t t_stamp: 1339064379.820422955\n",
      "Video: Still \t t_stamp: 1339064379.858004014\n",
      "Video: Still \t t_stamp: 1339064379.890197707\n"
     ]
    },
    {
     "name": "stderr",
     "output_type": "stream",
     "text": [
      " 64%|██████▍   | 136/212 [00:11<00:06, 11.59it/s]"
     ]
    },
    {
     "name": "stdout",
     "output_type": "stream",
     "text": [
      "Video: Still \t t_stamp: 1339064380.189841294\n"
     ]
    },
    {
     "name": "stderr",
     "output_type": "stream",
     "text": [
      " 66%|██████▌   | 140/212 [00:11<00:06, 11.45it/s]"
     ]
    },
    {
     "name": "stdout",
     "output_type": "stream",
     "text": [
      "Video: Still \t t_stamp: 1339064380.358442948\n",
      "Video: Still \t t_stamp: 1339064380.388501014\n",
      "Video: Still \t t_stamp: 1339064380.422951761\n"
     ]
    },
    {
     "name": "stderr",
     "output_type": "stream",
     "text": [
      " 68%|██████▊   | 144/212 [00:11<00:06, 11.15it/s]"
     ]
    },
    {
     "name": "stdout",
     "output_type": "stream",
     "text": [
      "Video: Still \t t_stamp: 1339064380.488403631\n",
      "Video: Still \t t_stamp: 1339064380.558665938\n"
     ]
    },
    {
     "name": "stderr",
     "output_type": "stream",
     "text": [
      " 85%|████████▌ | 181/212 [00:15<00:03, 10.12it/s]"
     ]
    },
    {
     "name": "stdout",
     "output_type": "stream",
     "text": [
      "Video: Still \t t_stamp: 1339064381.955932545\n",
      "Video: Still \t t_stamp: 1339064381.991928177\n"
     ]
    },
    {
     "name": "stderr",
     "output_type": "stream",
     "text": [
      " 87%|████████▋ | 185/212 [00:15<00:02,  9.87it/s]"
     ]
    },
    {
     "name": "stdout",
     "output_type": "stream",
     "text": [
      "Video: Still \t t_stamp: 1339064382.024611542\n",
      "Video: Still \t t_stamp: 1339064382.058619135\n",
      "Video: Still \t t_stamp: 1339064382.096672742\n"
     ]
    },
    {
     "name": "stderr",
     "output_type": "stream",
     "text": [
      "\r",
      " 88%|████████▊ | 187/212 [00:16<00:02,  9.95it/s]"
     ]
    },
    {
     "name": "stdout",
     "output_type": "stream",
     "text": [
      "Video: Still \t t_stamp: 1339064382.127529885\n",
      "Video: Still \t t_stamp: 1339064382.158664674\n",
      "Video: Still \t t_stamp: 1339064382.194607735\n"
     ]
    },
    {
     "name": "stderr",
     "output_type": "stream",
     "text": [
      " 90%|█████████ | 191/212 [00:16<00:01, 10.71it/s]"
     ]
    },
    {
     "name": "stdout",
     "output_type": "stream",
     "text": [
      "Video: Still \t t_stamp: 1339064382.226898197\n",
      "Video: Still \t t_stamp: 1339064382.257277247\n"
     ]
    },
    {
     "name": "stderr",
     "output_type": "stream",
     "text": [
      "\r",
      " 91%|█████████ | 193/212 [00:16<00:01, 11.05it/s]"
     ]
    },
    {
     "name": "stdout",
     "output_type": "stream",
     "text": [
      "Video: Still \t t_stamp: 1339064383.828936193\n",
      "Video: Still \t t_stamp: 1339064384.527930494\n",
      "Video: Still \t t_stamp: 1339064384.561442627\n"
     ]
    },
    {
     "name": "stderr",
     "output_type": "stream",
     "text": [
      " 93%|█████████▎| 197/212 [00:16<00:01, 11.90it/s]"
     ]
    },
    {
     "name": "stdout",
     "output_type": "stream",
     "text": [
      "Video: Still \t t_stamp: 1339064384.592178730\n",
      "Video: Still \t t_stamp: 1339064384.630798639\n"
     ]
    },
    {
     "name": "stderr",
     "output_type": "stream",
     "text": [
      "\r",
      " 94%|█████████▍| 199/212 [00:17<00:01, 12.40it/s]"
     ]
    },
    {
     "name": "stdout",
     "output_type": "stream",
     "text": [
      "Video: Still \t t_stamp: 1339064384.692425414\n",
      "Video: Still \t t_stamp: 1339064384.891990349\n"
     ]
    },
    {
     "name": "stderr",
     "output_type": "stream",
     "text": [
      " 96%|█████████▌| 203/212 [00:17<00:00, 12.93it/s]"
     ]
    },
    {
     "name": "stdout",
     "output_type": "stream",
     "text": [
      "Video: Still \t t_stamp: 1339064384.926883759\n",
      "Video: Still \t t_stamp: 1339064384.960249960\n",
      "Video: Still \t t_stamp: 1339064384.991150171\n"
     ]
    },
    {
     "name": "stderr",
     "output_type": "stream",
     "text": [
      "\r",
      " 97%|█████████▋| 205/212 [00:17<00:00, 13.05it/s]"
     ]
    },
    {
     "name": "stdout",
     "output_type": "stream",
     "text": [
      "Video: Still \t t_stamp: 1339064385.029119652\n",
      "Video: Still \t t_stamp: 1339064385.060221882\n",
      "Video: Still \t t_stamp: 1339064385.091417660\n"
     ]
    },
    {
     "name": "stderr",
     "output_type": "stream",
     "text": [
      " 99%|█████████▊| 209/212 [00:17<00:00, 12.89it/s]"
     ]
    },
    {
     "name": "stdout",
     "output_type": "stream",
     "text": [
      "Video: Still \t t_stamp: 1339064385.127440530\n",
      "Video: Still \t t_stamp: 1339064385.158939304\n",
      "Video: Still \t t_stamp: 1339064385.192367663\n"
     ]
    },
    {
     "name": "stderr",
     "output_type": "stream",
     "text": [
      "100%|██████████| 212/212 [00:18<00:00, 11.69it/s]"
     ]
    },
    {
     "name": "stdout",
     "output_type": "stream",
     "text": [
      "Video: Still \t t_stamp: 1339064385.228847384\n",
      "Video: Still \t t_stamp: 1339064385.262329127\n",
      "Video: Still \t t_stamp: 1339064385.292077368\n"
     ]
    },
    {
     "name": "stderr",
     "output_type": "stream",
     "text": [
      "\n",
      "  2%|▏         | 4/161 [00:00<00:12, 12.39it/s]"
     ]
    },
    {
     "name": "stdout",
     "output_type": "stream",
     "text": [
      "Video: Rotation \t t_stamp: 1339072085.374369345\n",
      "Video: Rotation \t t_stamp: 1339072085.407298567\n",
      "Video: Rotation \t t_stamp: 1339072085.443653510\n"
     ]
    },
    {
     "name": "stderr",
     "output_type": "stream",
     "text": [
      "  5%|▍         | 8/161 [00:00<00:12, 12.32it/s]"
     ]
    },
    {
     "name": "stdout",
     "output_type": "stream",
     "text": [
      "Video: Rotation \t t_stamp: 1339072085.475891766\n"
     ]
    },
    {
     "name": "stderr",
     "output_type": "stream",
     "text": [
      "  7%|▋         | 12/161 [00:00<00:12, 12.20it/s]"
     ]
    },
    {
     "name": "stdout",
     "output_type": "stream",
     "text": [
      "Video: Rotation \t t_stamp: 1339072085.607387040\n"
     ]
    },
    {
     "name": "stderr",
     "output_type": "stream",
     "text": [
      " 15%|█▍        | 24/161 [00:01<00:11, 12.10it/s]"
     ]
    },
    {
     "name": "stdout",
     "output_type": "stream",
     "text": [
      "Video: Rotation \t t_stamp: 1339072086.044893715\n",
      "Video: Rotation \t t_stamp: 1339072086.075632377\n"
     ]
    },
    {
     "name": "stderr",
     "output_type": "stream",
     "text": [
      " 21%|██        | 34/161 [00:02<00:10, 12.58it/s]"
     ]
    },
    {
     "name": "stdout",
     "output_type": "stream",
     "text": [
      "Video: Rotation \t t_stamp: 1339072086.345682111\n",
      "Video: Rotation \t t_stamp: 1339072086.408703883\n"
     ]
    },
    {
     "name": "stderr",
     "output_type": "stream",
     "text": [
      " 24%|██▎       | 38/161 [00:03<00:09, 12.43it/s]"
     ]
    },
    {
     "name": "stdout",
     "output_type": "stream",
     "text": [
      "Video: Rotation \t t_stamp: 1339072086.474224102\n",
      "Video: Rotation \t t_stamp: 1339072086.510453003\n",
      "Video: Rotation \t t_stamp: 1339072086.545593619\n"
     ]
    },
    {
     "name": "stderr",
     "output_type": "stream",
     "text": [
      " 27%|██▋       | 44/161 [00:03<00:09, 11.85it/s]"
     ]
    },
    {
     "name": "stdout",
     "output_type": "stream",
     "text": [
      "Video: Rotation \t t_stamp: 1339072086.675609485\n",
      "Video: Rotation \t t_stamp: 1339072086.709429305\n",
      "Video: Rotation \t t_stamp: 1339072086.748428527\n"
     ]
    },
    {
     "name": "stderr",
     "output_type": "stream",
     "text": [
      "\r",
      " 29%|██▊       | 46/161 [00:03<00:09, 11.64it/s]"
     ]
    },
    {
     "name": "stdout",
     "output_type": "stream",
     "text": [
      "Video: Rotation \t t_stamp: 1339072086.775419896\n"
     ]
    },
    {
     "name": "stderr",
     "output_type": "stream",
     "text": [
      " 34%|███▎      | 54/161 [00:04<00:09, 10.92it/s]"
     ]
    },
    {
     "name": "stdout",
     "output_type": "stream",
     "text": [
      "Video: Rotation \t t_stamp: 1339072087.045193307\n"
     ]
    },
    {
     "name": "stderr",
     "output_type": "stream",
     "text": [
      " 36%|███▌      | 58/161 [00:04<00:09, 11.25it/s]"
     ]
    },
    {
     "name": "stdout",
     "output_type": "stream",
     "text": [
      "Video: Rotation \t t_stamp: 1339072087.142348492\n",
      "Video: Rotation \t t_stamp: 1339072087.174608246\n"
     ]
    },
    {
     "name": "stderr",
     "output_type": "stream",
     "text": [
      "\r",
      " 37%|███▋      | 60/161 [00:05<00:08, 11.26it/s]"
     ]
    },
    {
     "name": "stdout",
     "output_type": "stream",
     "text": [
      "Video: Rotation \t t_stamp: 1339072087.244837201\n",
      "Video: Rotation \t t_stamp: 1339072087.277858659\n",
      "Video: Rotation \t t_stamp: 1339072087.310478964\n"
     ]
    },
    {
     "name": "stderr",
     "output_type": "stream",
     "text": [
      " 46%|████▌     | 74/161 [00:06<00:07, 11.63it/s]"
     ]
    },
    {
     "name": "stdout",
     "output_type": "stream",
     "text": [
      "Video: Rotation \t t_stamp: 1339072087.678628428\n"
     ]
    },
    {
     "name": "stderr",
     "output_type": "stream",
     "text": [
      "\r",
      " 47%|████▋     | 76/161 [00:06<00:07, 11.45it/s]"
     ]
    },
    {
     "name": "stdout",
     "output_type": "stream",
     "text": [
      "Video: Rotation \t t_stamp: 1339072087.777775215\n"
     ]
    },
    {
     "name": "stderr",
     "output_type": "stream",
     "text": [
      " 56%|█████▌    | 90/161 [00:07<00:06, 11.37it/s]"
     ]
    },
    {
     "name": "stdout",
     "output_type": "stream",
     "text": [
      "Video: Rotation \t t_stamp: 1339072088.211526292\n",
      "Video: Rotation \t t_stamp: 1339072088.244328111\n",
      "Video: Rotation \t t_stamp: 1339072088.280125215\n"
     ]
    },
    {
     "name": "stderr",
     "output_type": "stream",
     "text": [
      "\r",
      " 57%|█████▋    | 92/161 [00:07<00:06, 10.99it/s]"
     ]
    },
    {
     "name": "stdout",
     "output_type": "stream",
     "text": [
      "Video: Rotation \t t_stamp: 1339072088.310262645\n",
      "Video: Rotation \t t_stamp: 1339072088.342593705\n",
      "Video: Rotation \t t_stamp: 1339072088.379996533\n"
     ]
    },
    {
     "name": "stderr",
     "output_type": "stream",
     "text": [
      "\r",
      " 58%|█████▊    | 94/161 [00:08<00:06, 10.71it/s]"
     ]
    },
    {
     "name": "stdout",
     "output_type": "stream",
     "text": [
      "Video: Rotation \t t_stamp: 1339072088.411810703\n",
      "Video: Rotation \t t_stamp: 1339072088.443501404\n"
     ]
    },
    {
     "name": "stderr",
     "output_type": "stream",
     "text": [
      "\r",
      " 60%|█████▉    | 96/161 [00:08<00:06, 10.17it/s]"
     ]
    },
    {
     "name": "stdout",
     "output_type": "stream",
     "text": [
      "Video: Rotation \t t_stamp: 1339072088.483174754\n",
      "Video: Rotation \t t_stamp: 1339072088.511154179\n"
     ]
    },
    {
     "name": "stderr",
     "output_type": "stream",
     "text": [
      " 62%|██████▏   | 100/161 [00:08<00:06, 10.08it/s]"
     ]
    },
    {
     "name": "stdout",
     "output_type": "stream",
     "text": [
      "Video: Rotation \t t_stamp: 1339072088.545584220\n",
      "Video: Rotation \t t_stamp: 1339072088.578970184\n",
      "Video: Rotation \t t_stamp: 1339072088.610524123\n"
     ]
    },
    {
     "name": "stderr",
     "output_type": "stream",
     "text": [
      "\r",
      " 63%|██████▎   | 102/161 [00:08<00:05, 10.01it/s]"
     ]
    },
    {
     "name": "stdout",
     "output_type": "stream",
     "text": [
      "Video: Rotation \t t_stamp: 1339072088.642423242\n",
      "Video: Rotation \t t_stamp: 1339072088.679743586\n",
      "Video: Rotation \t t_stamp: 1339072088.715489681\n"
     ]
    },
    {
     "name": "stderr",
     "output_type": "stream",
     "text": [
      " 66%|██████▌   | 106/161 [00:09<00:05, 10.79it/s]"
     ]
    },
    {
     "name": "stdout",
     "output_type": "stream",
     "text": [
      "Video: Rotation \t t_stamp: 1339072088.744488536\n",
      "Video: Rotation \t t_stamp: 1339072088.782847334\n",
      "Video: Rotation \t t_stamp: 1339072088.810998010\n"
     ]
    },
    {
     "name": "stderr",
     "output_type": "stream",
     "text": [
      " 68%|██████▊   | 110/161 [00:09<00:04, 11.57it/s]"
     ]
    },
    {
     "name": "stdout",
     "output_type": "stream",
     "text": [
      "Video: Rotation \t t_stamp: 1339072088.910433874\n"
     ]
    },
    {
     "name": "stderr",
     "output_type": "stream",
     "text": [
      " 72%|███████▏  | 116/161 [00:10<00:03, 11.44it/s]"
     ]
    },
    {
     "name": "stdout",
     "output_type": "stream",
     "text": [
      "Video: Rotation \t t_stamp: 1339072089.078437057\n",
      "Video: Rotation \t t_stamp: 1339072089.110375871\n",
      "Video: Rotation \t t_stamp: 1339072089.143992731\n"
     ]
    },
    {
     "name": "stderr",
     "output_type": "stream",
     "text": [
      "\r",
      " 73%|███████▎  | 118/161 [00:10<00:03, 11.50it/s]"
     ]
    },
    {
     "name": "stdout",
     "output_type": "stream",
     "text": [
      "Video: Rotation \t t_stamp: 1339072089.180800376\n",
      "Video: Rotation \t t_stamp: 1339072089.210362522\n",
      "Video: Rotation \t t_stamp: 1339072089.242538264\n"
     ]
    },
    {
     "name": "stderr",
     "output_type": "stream",
     "text": [
      " 76%|███████▌  | 122/161 [00:10<00:03, 11.85it/s]"
     ]
    },
    {
     "name": "stdout",
     "output_type": "stream",
     "text": [
      "Video: Rotation \t t_stamp: 1339072089.280109735\n",
      "Video: Rotation \t t_stamp: 1339072089.311533855\n",
      "Video: Rotation \t t_stamp: 1339072089.346078056\n"
     ]
    },
    {
     "name": "stderr",
     "output_type": "stream",
     "text": [
      "\r",
      " 77%|███████▋  | 124/161 [00:10<00:03, 11.73it/s]"
     ]
    },
    {
     "name": "stdout",
     "output_type": "stream",
     "text": [
      "Video: Rotation \t t_stamp: 1339072089.378470478\n",
      "Video: Rotation \t t_stamp: 1339072089.411107007\n",
      "Video: Rotation \t t_stamp: 1339072089.444054546\n"
     ]
    },
    {
     "name": "stderr",
     "output_type": "stream",
     "text": [
      " 80%|███████▉  | 128/161 [00:11<00:02, 11.83it/s]"
     ]
    },
    {
     "name": "stdout",
     "output_type": "stream",
     "text": [
      "Video: Rotation \t t_stamp: 1339072089.479934273\n",
      "Video: Rotation \t t_stamp: 1339072089.510472118\n",
      "Video: Rotation \t t_stamp: 1339072089.546361953\n"
     ]
    },
    {
     "name": "stderr",
     "output_type": "stream",
     "text": [
      "\r",
      " 81%|████████  | 130/161 [00:11<00:02, 11.93it/s]"
     ]
    },
    {
     "name": "stdout",
     "output_type": "stream",
     "text": [
      "Video: Rotation \t t_stamp: 1339072089.578414443\n",
      "Video: Rotation \t t_stamp: 1339072089.612357532\n",
      "Video: Rotation \t t_stamp: 1339072089.647645394\n"
     ]
    },
    {
     "name": "stderr",
     "output_type": "stream",
     "text": [
      " 84%|████████▍ | 136/161 [00:11<00:02, 11.94it/s]"
     ]
    },
    {
     "name": "stdout",
     "output_type": "stream",
     "text": [
      "Video: Rotation \t t_stamp: 1339072089.746460775\n",
      "Video: Rotation \t t_stamp: 1339072089.779050730\n",
      "Video: Rotation \t t_stamp: 1339072089.810445607\n"
     ]
    },
    {
     "name": "stderr",
     "output_type": "stream",
     "text": [
      "\r",
      " 86%|████████▌ | 138/161 [00:11<00:01, 11.93it/s]"
     ]
    },
    {
     "name": "stdout",
     "output_type": "stream",
     "text": [
      "Video: Rotation \t t_stamp: 1339072089.851293161\n",
      "Video: Rotation \t t_stamp: 1339072089.880120731\n",
      "Video: Rotation \t t_stamp: 1339072089.912775426\n"
     ]
    },
    {
     "name": "stderr",
     "output_type": "stream",
     "text": [
      " 88%|████████▊ | 142/161 [00:12<00:01, 11.80it/s]"
     ]
    },
    {
     "name": "stdout",
     "output_type": "stream",
     "text": [
      "Video: Rotation \t t_stamp: 1339072089.948439121\n",
      "Video: Rotation \t t_stamp: 1339072089.978433117\n",
      "Video: Rotation \t t_stamp: 1339072090.010374490\n"
     ]
    },
    {
     "name": "stderr",
     "output_type": "stream",
     "text": [
      "\r",
      " 89%|████████▉ | 144/161 [00:12<00:01, 11.84it/s]"
     ]
    },
    {
     "name": "stdout",
     "output_type": "stream",
     "text": [
      "Video: Rotation \t t_stamp: 1339072090.110392084\n",
      "Video: Rotation \t t_stamp: 1339072090.146473216\n"
     ]
    },
    {
     "name": "stderr",
     "output_type": "stream",
     "text": [
      " 92%|█████████▏| 148/161 [00:12<00:01, 11.92it/s]"
     ]
    },
    {
     "name": "stdout",
     "output_type": "stream",
     "text": [
      "Video: Rotation \t t_stamp: 1339072090.213058669\n"
     ]
    },
    {
     "name": "stderr",
     "output_type": "stream",
     "text": [
      " 94%|█████████▍| 152/161 [00:13<00:00, 11.02it/s]"
     ]
    },
    {
     "name": "stdout",
     "output_type": "stream",
     "text": [
      "Video: Rotation \t t_stamp: 1339072090.446426961\n",
      "Video: Rotation \t t_stamp: 1339072090.478688273\n",
      "Video: Rotation \t t_stamp: 1339072090.512037468\n"
     ]
    },
    {
     "name": "stderr",
     "output_type": "stream",
     "text": [
      "\r",
      " 96%|█████████▌| 154/161 [00:13<00:00, 10.88it/s]"
     ]
    },
    {
     "name": "stdout",
     "output_type": "stream",
     "text": [
      "Video: Rotation \t t_stamp: 1339072090.548513799\n",
      "Video: Rotation \t t_stamp: 1339072090.581873314\n"
     ]
    },
    {
     "name": "stderr",
     "output_type": "stream",
     "text": [
      "100%|██████████| 161/161 [00:13<00:00, 11.61it/s]"
     ]
    },
    {
     "name": "stdout",
     "output_type": "stream",
     "text": [
      "Video: Rotation \t t_stamp: 1339072092.086177082\n",
      "Video: Rotation \t t_stamp: 1339072092.116230983\n",
      "Video: Rotation \t t_stamp: 1339072092.148222388\n"
     ]
    },
    {
     "name": "stderr",
     "output_type": "stream",
     "text": [
      "\n",
      "  5%|▌         | 12/230 [00:00<00:15, 13.66it/s]"
     ]
    },
    {
     "name": "stdout",
     "output_type": "stream",
     "text": [
      "Video: Translation \t t_stamp: 1339066295.794467845\n",
      "Video: Translation \t t_stamp: 1339066295.827891850\n",
      "Video: Translation \t t_stamp: 1339066295.857830147\n"
     ]
    },
    {
     "name": "stderr",
     "output_type": "stream",
     "text": [
      "  7%|▋         | 16/230 [00:01<00:16, 13.24it/s]"
     ]
    },
    {
     "name": "stdout",
     "output_type": "stream",
     "text": [
      "Video: Translation \t t_stamp: 1339066295.893649842\n",
      "Video: Translation \t t_stamp: 1339066295.925813432\n",
      "Video: Translation \t t_stamp: 1339066295.959233400\n"
     ]
    },
    {
     "name": "stderr",
     "output_type": "stream",
     "text": [
      " 20%|██        | 46/230 [00:03<00:13, 13.72it/s]"
     ]
    },
    {
     "name": "stdout",
     "output_type": "stream",
     "text": [
      "Video: Translation \t t_stamp: 1339066296.963292569\n"
     ]
    },
    {
     "name": "stderr",
     "output_type": "stream",
     "text": [
      " 23%|██▎       | 54/230 [00:04<00:13, 13.18it/s]"
     ]
    },
    {
     "name": "stdout",
     "output_type": "stream",
     "text": [
      "Video: Translation \t t_stamp: 1339066297.193768554\n",
      "Video: Translation \t t_stamp: 1339066297.228792599\n"
     ]
    },
    {
     "name": "stderr",
     "output_type": "stream",
     "text": [
      " 33%|███▎      | 76/230 [00:05<00:12, 12.54it/s]"
     ]
    },
    {
     "name": "stdout",
     "output_type": "stream",
     "text": [
      "Video: Translation \t t_stamp: 1339066297.932858670\n",
      "Video: Translation \t t_stamp: 1339066297.962127039\n"
     ]
    },
    {
     "name": "stderr",
     "output_type": "stream",
     "text": [
      " 36%|███▌      | 82/230 [00:06<00:11, 12.58it/s]"
     ]
    },
    {
     "name": "stdout",
     "output_type": "stream",
     "text": [
      "Video: Translation \t t_stamp: 1339066298.129741662\n",
      "Video: Translation \t t_stamp: 1339066298.162489159\n",
      "Video: Translation \t t_stamp: 1339066298.195140837\n"
     ]
    },
    {
     "name": "stderr",
     "output_type": "stream",
     "text": [
      "\r",
      " 37%|███▋      | 84/230 [00:06<00:11, 12.52it/s]"
     ]
    },
    {
     "name": "stdout",
     "output_type": "stream",
     "text": [
      "Video: Translation \t t_stamp: 1339066298.230024252\n",
      "Video: Translation \t t_stamp: 1339066298.261872656\n",
      "Video: Translation \t t_stamp: 1339066298.296573512\n"
     ]
    },
    {
     "name": "stderr",
     "output_type": "stream",
     "text": [
      " 38%|███▊      | 88/230 [00:06<00:11, 12.25it/s]"
     ]
    },
    {
     "name": "stdout",
     "output_type": "stream",
     "text": [
      "Video: Translation \t t_stamp: 1339066298.332504178\n",
      "Video: Translation \t t_stamp: 1339066298.363436648\n",
      "Video: Translation \t t_stamp: 1339066298.394513552\n"
     ]
    },
    {
     "name": "stderr",
     "output_type": "stream",
     "text": [
      "\r",
      " 39%|███▉      | 90/230 [00:06<00:11, 12.24it/s]"
     ]
    },
    {
     "name": "stdout",
     "output_type": "stream",
     "text": [
      "Video: Translation \t t_stamp: 1339066298.432771043\n",
      "Video: Translation \t t_stamp: 1339066298.463103268\n",
      "Video: Translation \t t_stamp: 1339066298.496419711\n"
     ]
    },
    {
     "name": "stderr",
     "output_type": "stream",
     "text": [
      " 43%|████▎     | 98/230 [00:07<00:11, 11.79it/s]"
     ]
    },
    {
     "name": "stdout",
     "output_type": "stream",
     "text": [
      "Video: Translation \t t_stamp: 1339066298.697584953\n",
      "Video: Translation \t t_stamp: 1339066298.731583003\n"
     ]
    },
    {
     "name": "stderr",
     "output_type": "stream",
     "text": [
      " 51%|█████▏    | 118/230 [00:09<00:10, 11.09it/s]"
     ]
    },
    {
     "name": "stdout",
     "output_type": "stream",
     "text": [
      "Video: Translation \t t_stamp: 1339066299.332821107\n",
      "Video: Translation \t t_stamp: 1339066299.363701109\n",
      "Video: Translation \t t_stamp: 1339066299.401076315\n"
     ]
    },
    {
     "name": "stderr",
     "output_type": "stream",
     "text": [
      "\r",
      " 52%|█████▏    | 120/230 [00:09<00:10, 10.75it/s]"
     ]
    },
    {
     "name": "stdout",
     "output_type": "stream",
     "text": [
      "Video: Translation \t t_stamp: 1339066299.430501325\n",
      "Video: Translation \t t_stamp: 1339066299.461921459\n",
      "Video: Translation \t t_stamp: 1339066299.497863349\n"
     ]
    },
    {
     "name": "stderr",
     "output_type": "stream",
     "text": [
      " 54%|█████▍    | 124/230 [00:09<00:09, 11.15it/s]"
     ]
    },
    {
     "name": "stdout",
     "output_type": "stream",
     "text": [
      "Video: Translation \t t_stamp: 1339066299.530217975\n",
      "Video: Translation \t t_stamp: 1339066299.561893729\n",
      "Video: Translation \t t_stamp: 1339066299.599198769\n"
     ]
    },
    {
     "name": "stderr",
     "output_type": "stream",
     "text": [
      "\r",
      " 55%|█████▍    | 126/230 [00:10<00:09, 11.28it/s]"
     ]
    },
    {
     "name": "stdout",
     "output_type": "stream",
     "text": [
      "Video: Translation \t t_stamp: 1339066299.631882568\n",
      "Video: Translation \t t_stamp: 1339066299.661576264\n"
     ]
    },
    {
     "name": "stderr",
     "output_type": "stream",
     "text": [
      " 57%|█████▋    | 130/230 [00:10<00:08, 11.30it/s]"
     ]
    },
    {
     "name": "stdout",
     "output_type": "stream",
     "text": [
      "Video: Translation \t t_stamp: 1339066299.729790028\n"
     ]
    },
    {
     "name": "stderr",
     "output_type": "stream",
     "text": [
      "\r",
      " 57%|█████▋    | 132/230 [00:10<00:08, 11.23it/s]"
     ]
    },
    {
     "name": "stdout",
     "output_type": "stream",
     "text": [
      "Video: Translation \t t_stamp: 1339066299.829688731\n",
      "Video: Translation \t t_stamp: 1339066299.900322714\n"
     ]
    },
    {
     "name": "stderr",
     "output_type": "stream",
     "text": [
      " 59%|█████▉    | 136/230 [00:11<00:08, 10.49it/s]"
     ]
    },
    {
     "name": "stdout",
     "output_type": "stream",
     "text": [
      "Video: Translation \t t_stamp: 1339066299.966790355\n",
      "Video: Translation \t t_stamp: 1339066299.997775470\n",
      "Video: Translation \t t_stamp: 1339066300.030997244\n"
     ]
    },
    {
     "name": "stderr",
     "output_type": "stream",
     "text": [
      "\r",
      " 60%|██████    | 138/230 [00:11<00:08, 10.43it/s]"
     ]
    },
    {
     "name": "stdout",
     "output_type": "stream",
     "text": [
      "Video: Translation \t t_stamp: 1339066300.069130334\n",
      "Video: Translation \t t_stamp: 1339066300.102637365\n"
     ]
    },
    {
     "name": "stderr",
     "output_type": "stream",
     "text": [
      "\r",
      " 61%|██████    | 140/230 [00:11<00:08, 10.19it/s]"
     ]
    },
    {
     "name": "stdout",
     "output_type": "stream",
     "text": [
      "Video: Translation \t t_stamp: 1339066300.132197225\n",
      "Video: Translation \t t_stamp: 1339066300.167668598\n"
     ]
    },
    {
     "name": "stderr",
     "output_type": "stream",
     "text": [
      " 63%|██████▎   | 144/230 [00:11<00:08, 10.14it/s]"
     ]
    },
    {
     "name": "stdout",
     "output_type": "stream",
     "text": [
      "Video: Translation \t t_stamp: 1339066300.229865286\n",
      "Video: Translation \t t_stamp: 1339066300.266016352\n",
      "Video: Translation \t t_stamp: 1339066300.300686607\n"
     ]
    },
    {
     "name": "stderr",
     "output_type": "stream",
     "text": [
      " 64%|██████▍   | 148/230 [00:12<00:07, 10.45it/s]"
     ]
    },
    {
     "name": "stdout",
     "output_type": "stream",
     "text": [
      "Video: Translation \t t_stamp: 1339066300.329913024\n"
     ]
    },
    {
     "name": "stderr",
     "output_type": "stream",
     "text": [
      " 66%|██████▌   | 152/230 [00:12<00:07, 10.73it/s]"
     ]
    },
    {
     "name": "stdout",
     "output_type": "stream",
     "text": [
      "Video: Translation \t t_stamp: 1339066300.466807463\n",
      "Video: Translation \t t_stamp: 1339066300.500468035\n",
      "Video: Translation \t t_stamp: 1339066300.530058223\n"
     ]
    },
    {
     "name": "stderr",
     "output_type": "stream",
     "text": [
      "\r",
      " 67%|██████▋   | 154/230 [00:12<00:07, 10.84it/s]"
     ]
    },
    {
     "name": "stdout",
     "output_type": "stream",
     "text": [
      "Video: Translation \t t_stamp: 1339066300.565569226\n",
      "Video: Translation \t t_stamp: 1339066300.597709824\n",
      "Video: Translation \t t_stamp: 1339066300.629712933\n"
     ]
    },
    {
     "name": "stderr",
     "output_type": "stream",
     "text": [
      " 69%|██████▊   | 158/230 [00:13<00:06, 10.76it/s]"
     ]
    },
    {
     "name": "stdout",
     "output_type": "stream",
     "text": [
      "Video: Translation \t t_stamp: 1339066300.669026928\n",
      "Video: Translation \t t_stamp: 1339066300.700078500\n",
      "Video: Translation \t t_stamp: 1339066300.730819897\n"
     ]
    },
    {
     "name": "stderr",
     "output_type": "stream",
     "text": [
      "\r",
      " 70%|██████▉   | 160/230 [00:13<00:06, 10.56it/s]"
     ]
    },
    {
     "name": "stdout",
     "output_type": "stream",
     "text": [
      "Video: Translation \t t_stamp: 1339066300.765875418\n",
      "Video: Translation \t t_stamp: 1339066300.797764135\n",
      "Video: Translation \t t_stamp: 1339066300.829742992\n"
     ]
    },
    {
     "name": "stderr",
     "output_type": "stream",
     "text": [
      " 71%|███████▏  | 164/230 [00:13<00:06, 10.86it/s]"
     ]
    },
    {
     "name": "stdout",
     "output_type": "stream",
     "text": [
      "Video: Translation \t t_stamp: 1339066300.865735206\n"
     ]
    },
    {
     "name": "stderr",
     "output_type": "stream",
     "text": [
      " 75%|███████▍  | 172/230 [00:14<00:05, 11.33it/s]"
     ]
    },
    {
     "name": "stdout",
     "output_type": "stream",
     "text": [
      "Video: Translation \t t_stamp: 1339066301.135468066\n",
      "Video: Translation \t t_stamp: 1339066301.166041352\n",
      "Video: Translation \t t_stamp: 1339066301.198209573\n"
     ]
    },
    {
     "name": "stderr",
     "output_type": "stream",
     "text": [
      "\r",
      " 76%|███████▌  | 174/230 [00:14<00:04, 11.25it/s]"
     ]
    },
    {
     "name": "stdout",
     "output_type": "stream",
     "text": [
      "Video: Translation \t t_stamp: 1339066301.233941308\n",
      "Video: Translation \t t_stamp: 1339066301.266458185\n",
      "Video: Translation \t t_stamp: 1339066301.297694590\n"
     ]
    },
    {
     "name": "stderr",
     "output_type": "stream",
     "text": [
      " 77%|███████▋  | 178/230 [00:14<00:04, 10.97it/s]"
     ]
    },
    {
     "name": "stdout",
     "output_type": "stream",
     "text": [
      "Video: Translation \t t_stamp: 1339066301.336240538\n",
      "Video: Translation \t t_stamp: 1339066301.368378099\n",
      "Video: Translation \t t_stamp: 1339066301.398160255\n"
     ]
    },
    {
     "name": "stderr",
     "output_type": "stream",
     "text": [
      "\r",
      " 78%|███████▊  | 180/230 [00:15<00:04, 10.86it/s]"
     ]
    },
    {
     "name": "stdout",
     "output_type": "stream",
     "text": [
      "Video: Translation \t t_stamp: 1339066301.436218282\n",
      "Video: Translation \t t_stamp: 1339066301.468501635\n",
      "Video: Translation \t t_stamp: 1339066301.500358315\n"
     ]
    },
    {
     "name": "stderr",
     "output_type": "stream",
     "text": [
      " 80%|████████  | 184/230 [00:15<00:04, 10.73it/s]"
     ]
    },
    {
     "name": "stdout",
     "output_type": "stream",
     "text": [
      "Video: Translation \t t_stamp: 1339066301.536080747\n",
      "Video: Translation \t t_stamp: 1339066301.568143188\n",
      "Video: Translation \t t_stamp: 1339066301.600727662\n"
     ]
    },
    {
     "name": "stderr",
     "output_type": "stream",
     "text": [
      "\r",
      " 81%|████████  | 186/230 [00:15<00:04, 10.69it/s]"
     ]
    },
    {
     "name": "stdout",
     "output_type": "stream",
     "text": [
      "Video: Translation \t t_stamp: 1339066301.636388236\n",
      "Video: Translation \t t_stamp: 1339066301.665635952\n",
      "Video: Translation \t t_stamp: 1339066301.700292707\n"
     ]
    },
    {
     "name": "stderr",
     "output_type": "stream",
     "text": [
      " 83%|████████▎ | 190/230 [00:16<00:03, 10.94it/s]"
     ]
    },
    {
     "name": "stdout",
     "output_type": "stream",
     "text": [
      "Video: Translation \t t_stamp: 1339066301.736636370\n"
     ]
    },
    {
     "name": "stderr",
     "output_type": "stream",
     "text": [
      " 88%|████████▊ | 202/230 [00:17<00:02, 11.64it/s]"
     ]
    },
    {
     "name": "stdout",
     "output_type": "stream",
     "text": [
      "Video: Translation \t t_stamp: 1339066302.168241125\n",
      "Video: Translation \t t_stamp: 1339066302.197744758\n",
      "Video: Translation \t t_stamp: 1339066302.235314803\n"
     ]
    },
    {
     "name": "stderr",
     "output_type": "stream",
     "text": [
      " 90%|████████▉ | 206/230 [00:17<00:02, 11.50it/s]"
     ]
    },
    {
     "name": "stdout",
     "output_type": "stream",
     "text": [
      "Video: Translation \t t_stamp: 1339066302.266387712\n",
      "Video: Translation \t t_stamp: 1339066302.297816631\n"
     ]
    },
    {
     "name": "stderr",
     "output_type": "stream",
     "text": [
      "\r",
      " 90%|█████████ | 208/230 [00:17<00:01, 11.45it/s]"
     ]
    },
    {
     "name": "stdout",
     "output_type": "stream",
     "text": [
      "Video: Translation \t t_stamp: 1339066302.368469997\n"
     ]
    },
    {
     "name": "stderr",
     "output_type": "stream",
     "text": [
      " 92%|█████████▏| 212/230 [00:17<00:01, 11.29it/s]"
     ]
    },
    {
     "name": "stdout",
     "output_type": "stream",
     "text": [
      "Video: Translation \t t_stamp: 1339066302.468498544\n",
      "Video: Translation \t t_stamp: 1339066302.503467375\n"
     ]
    },
    {
     "name": "stderr",
     "output_type": "stream",
     "text": [
      "\r",
      " 93%|█████████▎| 214/230 [00:18<00:01, 11.27it/s]"
     ]
    },
    {
     "name": "stdout",
     "output_type": "stream",
     "text": [
      "Video: Translation \t t_stamp: 1339066302.566625631\n",
      "Video: Translation \t t_stamp: 1339066302.604595190\n"
     ]
    },
    {
     "name": "stderr",
     "output_type": "stream",
     "text": [
      " 95%|█████████▍| 218/230 [00:18<00:01, 11.40it/s]"
     ]
    },
    {
     "name": "stdout",
     "output_type": "stream",
     "text": [
      "Video: Translation \t t_stamp: 1339066302.703331917\n",
      "Video: Translation \t t_stamp: 1339066302.768871878\n"
     ]
    },
    {
     "name": "stderr",
     "output_type": "stream",
     "text": [
      " 97%|█████████▋| 222/230 [00:18<00:00, 11.34it/s]"
     ]
    },
    {
     "name": "stdout",
     "output_type": "stream",
     "text": [
      "Video: Translation \t t_stamp: 1339066302.804151948\n",
      "Video: Translation \t t_stamp: 1339066302.836641266\n",
      "Video: Translation \t t_stamp: 1339066302.868691910\n"
     ]
    },
    {
     "name": "stderr",
     "output_type": "stream",
     "text": [
      "\r",
      " 97%|█████████▋| 224/230 [00:19<00:00, 11.31it/s]"
     ]
    },
    {
     "name": "stdout",
     "output_type": "stream",
     "text": [
      "Video: Translation \t t_stamp: 1339066302.903488891\n",
      "Video: Translation \t t_stamp: 1339066302.934356096\n",
      "Video: Translation \t t_stamp: 1339066302.965950610\n"
     ]
    },
    {
     "name": "stderr",
     "output_type": "stream",
     "text": [
      " 99%|█████████▉| 228/230 [00:19<00:00, 11.14it/s]"
     ]
    },
    {
     "name": "stdout",
     "output_type": "stream",
     "text": [
      "Video: Translation \t t_stamp: 1339066303.001477793\n",
      "Video: Translation \t t_stamp: 1339066303.035827882\n",
      "Video: Translation \t t_stamp: 1339066303.067827498\n"
     ]
    },
    {
     "name": "stderr",
     "output_type": "stream",
     "text": [
      "100%|██████████| 230/230 [00:19<00:00, 11.76it/s]\n"
     ]
    },
    {
     "name": "stdout",
     "output_type": "stream",
     "text": [
      "Video: Translation \t t_stamp: 1339066303.104376909\n",
      "Video: Translation \t t_stamp: 1339066303.136689054\n"
     ]
    },
    {
     "name": "stderr",
     "output_type": "stream",
     "text": [
      "  8%|▊         | 12/149 [00:00<00:09, 13.76it/s]"
     ]
    },
    {
     "name": "stdout",
     "output_type": "stream",
     "text": [
      "Video: Arc \t t_stamp: 1339072511.517442365\n"
     ]
    },
    {
     "name": "stderr",
     "output_type": "stream",
     "text": [
      " 16%|█▌        | 24/149 [00:01<00:09, 12.71it/s]"
     ]
    },
    {
     "name": "stdout",
     "output_type": "stream",
     "text": [
      "Video: Arc \t t_stamp: 1339072512.653860316\n",
      "Video: Arc \t t_stamp: 1339072512.856089393\n"
     ]
    },
    {
     "name": "stderr",
     "output_type": "stream",
     "text": [
      " 19%|█▉        | 28/149 [00:02<00:09, 12.50it/s]"
     ]
    },
    {
     "name": "stdout",
     "output_type": "stream",
     "text": [
      "Video: Arc \t t_stamp: 1339072512.888383740\n",
      "Video: Arc \t t_stamp: 1339072512.924184139\n",
      "Video: Arc \t t_stamp: 1339072512.956100717\n"
     ]
    },
    {
     "name": "stderr",
     "output_type": "stream",
     "text": [
      "\r",
      " 20%|██        | 30/149 [00:02<00:09, 12.19it/s]"
     ]
    },
    {
     "name": "stdout",
     "output_type": "stream",
     "text": [
      "Video: Arc \t t_stamp: 1339072512.986709666\n",
      "Video: Arc \t t_stamp: 1339072513.053145763\n"
     ]
    },
    {
     "name": "stderr",
     "output_type": "stream",
     "text": [
      " 24%|██▍       | 36/149 [00:02<00:09, 12.52it/s]"
     ]
    },
    {
     "name": "stdout",
     "output_type": "stream",
     "text": [
      "Video: Arc \t t_stamp: 1339072513.154075443\n"
     ]
    },
    {
     "name": "stderr",
     "output_type": "stream",
     "text": [
      "\r",
      " 26%|██▌       | 38/149 [00:02<00:08, 12.50it/s]"
     ]
    },
    {
     "name": "stdout",
     "output_type": "stream",
     "text": [
      "Video: Arc \t t_stamp: 1339072513.253257585\n",
      "Video: Arc \t t_stamp: 1339072513.285300516\n",
      "Video: Arc \t t_stamp: 1339072513.321362052\n"
     ]
    },
    {
     "name": "stderr",
     "output_type": "stream",
     "text": [
      " 28%|██▊       | 42/149 [00:03<00:08, 12.39it/s]"
     ]
    },
    {
     "name": "stdout",
     "output_type": "stream",
     "text": [
      "Video: Arc \t t_stamp: 1339072513.353480656\n"
     ]
    },
    {
     "name": "stderr",
     "output_type": "stream",
     "text": [
      " 35%|███▍      | 52/149 [00:04<00:07, 12.77it/s]"
     ]
    },
    {
     "name": "stdout",
     "output_type": "stream",
     "text": [
      "Video: Arc \t t_stamp: 1339072513.685328872\n",
      "Video: Arc \t t_stamp: 1339072513.721343193\n",
      "Video: Arc \t t_stamp: 1339072513.754267322\n"
     ]
    },
    {
     "name": "stderr",
     "output_type": "stream",
     "text": [
      "\r",
      " 36%|███▌      | 54/149 [00:04<00:07, 12.64it/s]"
     ]
    },
    {
     "name": "stdout",
     "output_type": "stream",
     "text": [
      "Video: Arc \t t_stamp: 1339072513.788877549\n",
      "Video: Arc \t t_stamp: 1339072513.821997676\n",
      "Video: Arc \t t_stamp: 1339072513.854655242\n"
     ]
    },
    {
     "name": "stderr",
     "output_type": "stream",
     "text": [
      " 39%|███▉      | 58/149 [00:04<00:07, 12.44it/s]"
     ]
    },
    {
     "name": "stdout",
     "output_type": "stream",
     "text": [
      "Video: Arc \t t_stamp: 1339072513.890210703\n",
      "Video: Arc \t t_stamp: 1339072513.922361414\n",
      "Video: Arc \t t_stamp: 1339072513.954081747\n"
     ]
    },
    {
     "name": "stderr",
     "output_type": "stream",
     "text": [
      "\r",
      " 40%|████      | 60/149 [00:04<00:07, 12.33it/s]"
     ]
    },
    {
     "name": "stdout",
     "output_type": "stream",
     "text": [
      "Video: Arc \t t_stamp: 1339072513.989855802\n"
     ]
    },
    {
     "name": "stderr",
     "output_type": "stream",
     "text": [
      " 43%|████▎     | 64/149 [00:05<00:06, 12.16it/s]"
     ]
    },
    {
     "name": "stdout",
     "output_type": "stream",
     "text": [
      "Video: Arc \t t_stamp: 1339072514.121570231\n",
      "Video: Arc \t t_stamp: 1339072514.156387156\n",
      "Video: Arc \t t_stamp: 1339072514.190418789\n"
     ]
    },
    {
     "name": "stderr",
     "output_type": "stream",
     "text": [
      " 47%|████▋     | 70/149 [00:05<00:06, 11.48it/s]"
     ]
    },
    {
     "name": "stdout",
     "output_type": "stream",
     "text": [
      "Video: Arc \t t_stamp: 1339072514.289369597\n",
      "Video: Arc \t t_stamp: 1339072514.353578744\n"
     ]
    },
    {
     "name": "stderr",
     "output_type": "stream",
     "text": [
      "\r",
      " 48%|████▊     | 72/149 [00:05<00:06, 11.70it/s]"
     ]
    },
    {
     "name": "stdout",
     "output_type": "stream",
     "text": [
      "Video: Arc \t t_stamp: 1339072514.389393268\n",
      "Video: Arc \t t_stamp: 1339072514.424023533\n",
      "Video: Arc \t t_stamp: 1339072514.453437237\n"
     ]
    },
    {
     "name": "stderr",
     "output_type": "stream",
     "text": [
      " 51%|█████     | 76/149 [00:06<00:06, 12.00it/s]"
     ]
    },
    {
     "name": "stdout",
     "output_type": "stream",
     "text": [
      "Video: Arc \t t_stamp: 1339072514.489802102\n",
      "Video: Arc \t t_stamp: 1339072514.523196050\n"
     ]
    },
    {
     "name": "stderr",
     "output_type": "stream",
     "text": [
      " 60%|██████    | 90/149 [00:07<00:04, 12.79it/s]"
     ]
    },
    {
     "name": "stdout",
     "output_type": "stream",
     "text": [
      "Video: Arc \t t_stamp: 1339072514.955849910\n",
      "Video: Arc \t t_stamp: 1339072514.989501858\n"
     ]
    },
    {
     "name": "stderr",
     "output_type": "stream",
     "text": [
      " 71%|███████   | 106/149 [00:08<00:03, 12.23it/s]"
     ]
    },
    {
     "name": "stdout",
     "output_type": "stream",
     "text": [
      "Video: Arc \t t_stamp: 1339072515.491210489\n",
      "Video: Arc \t t_stamp: 1339072515.523347928\n",
      "Video: Arc \t t_stamp: 1339072515.557422475\n"
     ]
    },
    {
     "name": "stderr",
     "output_type": "stream",
     "text": [
      "\r",
      " 72%|███████▏  | 108/149 [00:08<00:03, 12.10it/s]"
     ]
    },
    {
     "name": "stdout",
     "output_type": "stream",
     "text": [
      "Video: Arc \t t_stamp: 1339072515.592105329\n",
      "Video: Arc \t t_stamp: 1339072515.621627139\n",
      "Video: Arc \t t_stamp: 1339072515.657457567\n"
     ]
    },
    {
     "name": "stderr",
     "output_type": "stream",
     "text": [
      " 75%|███████▌  | 112/149 [00:08<00:03, 11.77it/s]"
     ]
    },
    {
     "name": "stdout",
     "output_type": "stream",
     "text": [
      "Video: Arc \t t_stamp: 1339072515.691627456\n",
      "Video: Arc \t t_stamp: 1339072515.724012698\n",
      "Video: Arc \t t_stamp: 1339072515.760676301\n"
     ]
    },
    {
     "name": "stderr",
     "output_type": "stream",
     "text": [
      "\r",
      " 77%|███████▋  | 114/149 [00:09<00:03, 11.42it/s]"
     ]
    },
    {
     "name": "stdout",
     "output_type": "stream",
     "text": [
      "Video: Arc \t t_stamp: 1339072515.791157946\n",
      "Video: Arc \t t_stamp: 1339072515.824139267\n",
      "Video: Arc \t t_stamp: 1339072515.859477224\n"
     ]
    },
    {
     "name": "stderr",
     "output_type": "stream",
     "text": [
      " 81%|████████  | 120/149 [00:09<00:02, 11.57it/s]"
     ]
    },
    {
     "name": "stdout",
     "output_type": "stream",
     "text": [
      "Video: Arc \t t_stamp: 1339072515.960977246\n",
      "Video: Arc \t t_stamp: 1339072515.990853841\n"
     ]
    },
    {
     "name": "stderr",
     "output_type": "stream",
     "text": [
      " 89%|████████▊ | 132/149 [00:10<00:01, 12.49it/s]"
     ]
    },
    {
     "name": "stdout",
     "output_type": "stream",
     "text": [
      "Video: Arc \t t_stamp: 1339072518.393366702\n"
     ]
    },
    {
     "name": "stderr",
     "output_type": "stream",
     "text": [
      " 95%|█████████▌| 142/149 [00:11<00:00, 12.34it/s]"
     ]
    },
    {
     "name": "stdout",
     "output_type": "stream",
     "text": [
      "Video: Arc \t t_stamp: 1339072518.757587414\n",
      "Video: Arc \t t_stamp: 1339072518.796500068\n",
      "Video: Arc \t t_stamp: 1339072519.225629027\n"
     ]
    },
    {
     "name": "stderr",
     "output_type": "stream",
     "text": [
      " 98%|█████████▊| 146/149 [00:11<00:00, 12.02it/s]"
     ]
    },
    {
     "name": "stdout",
     "output_type": "stream",
     "text": [
      "Video: Arc \t t_stamp: 1339072520.093736325\n",
      "Video: Arc \t t_stamp: 1339072520.131320403\n",
      "Video: Arc \t t_stamp: 1339072520.161490589\n"
     ]
    },
    {
     "name": "stderr",
     "output_type": "stream",
     "text": [
      "100%|██████████| 149/149 [00:12<00:00, 12.40it/s]"
     ]
    },
    {
     "name": "stdout",
     "output_type": "stream",
     "text": [
      "Video: Arc \t t_stamp: 1339072520.196616961\n",
      "Video: Arc \t t_stamp: 1339072520.230644998\n",
      "Task 4 \t           Num 3d matches:2163 \t Num 2d matches:2245 \t           2d rate:0.7909579230080573 \t 3d rate: 0.7542524619516562 \t           mean_error(m): 0.19669444224384505 \t           fn: 0.007162041181736795 \t fp: 0.20680393912264997\n"
     ]
    },
    {
     "name": "stderr",
     "output_type": "stream",
     "text": [
      "\n"
     ]
    }
   ],
   "source": [
    "dataset_folder = \"/root/KTP_Dataset_Text\";\n",
    "image_folder = dataset_folder + \"/images\";\n",
    "ground_truth_folder = dataset_folder + \"/ground_truth\";\n",
    "\n",
    "\n",
    "videos = ['Still', 'Rotation', 'Translation', 'Arc']\n",
    "\n",
    "analyser = KTPAnalyser(depth_offset=125)\n",
    "\n",
    "# for task in range(5):\n",
    "for task in [4]:\n",
    "    \n",
    "    total_possible_3d_matches = 0\n",
    "    total_possible_2d_matches = 0\n",
    "    num_3d_matches = 0\n",
    "    num_2d_matches = 0\n",
    "    min_dist_errors = []\n",
    "    # t_stamps_with_3d_gt = \n",
    "    num_extra = 0 \n",
    "    num_missed = 0\n",
    "    num_3d_not_matches = 0\n",
    "        \n",
    "    for vid in videos:\n",
    "\n",
    "        lower_t_bound = timestamp_bounds_dict[vid][task][0]\n",
    "        upper_t_bound = timestamp_bounds_dict[vid][task][1]\n",
    "\n",
    "        rgb_path = image_folder + \"/\" + vid + \"/rgb\"\n",
    "        depth_path = image_folder + \"/\" + vid + \"/depth\"\n",
    "        odom_path = ground_truth_folder + \"/\" + vid + \"_robot_pose.txt\"\n",
    "\n",
    "        pos3d_path = ground_truth_folder + \"/\" + vid + \"_gt3D.txt\"\n",
    "        pos2d_path = ground_truth_folder + \"/\" + vid + \"_gt2D.txt\"\n",
    "\n",
    "        rgb_files = [f for f in listdir(rgb_path) if isfile(join(rgb_path, f))]\n",
    "        depth_files = [f for f in listdir(depth_path) if isfile(join(depth_path, f))]\n",
    "\n",
    "        pose_dict = {}\n",
    "        with open(odom_path, 'r') as fd:\n",
    "            reader = csv.reader(fd)\n",
    "            for row in reader:\n",
    "                arr = row[0].split(' ')\n",
    "                pose_dict[arr[0].strip(':')] = arr[1:]\n",
    "\n",
    "        gt_3d_dict = {}\n",
    "        with open(pos3d_path, 'r') as fd:\n",
    "            reader = csv.reader(fd)\n",
    "            for row in reader:\n",
    "                if len(row) > 1:\n",
    "                    row = row[0:-1]\n",
    "                    t_stamp = row[0].split(' ')[0].strip(':')\n",
    "\n",
    "                    markers = []\n",
    "\n",
    "                    for i in range(len(row)):\n",
    "                        markers.append(row[i].split(' ')[1:])\n",
    "\n",
    "                    gt_3d_dict[t_stamp] = markers\n",
    "\n",
    "        gt_2d_dict = {}\n",
    "        with open(pos2d_path, 'r') as fd:\n",
    "            reader = csv.reader(fd)\n",
    "            for row in reader:\n",
    "                if len(row) > 1:\n",
    "                    row = row[0:-1]\n",
    "                    t_stamp = row[0].split(' ')[0].strip(':')\n",
    "\n",
    "                    markers = []\n",
    "\n",
    "                    for i in range(len(row)):\n",
    "                        markers.append(row[i].split(' ')[1:])\n",
    "\n",
    "                    gt_2d_dict[t_stamp] = markers\n",
    "\n",
    "        rgb_timestamps = [img.strip('.jpg') for img in rgb_files]\n",
    "        depth_timestamps = [img.strip('.pgm') for img in depth_files]\n",
    "        pose_timestamps = list(pose_dict.keys())\n",
    "\n",
    "        # Check that all rgb, depth and odom timetsamps match \n",
    "        depth_ctr = 0 \n",
    "        pose_ctr = 0 \n",
    "        for t in rgb_timestamps:\n",
    "            depth_ctr += int(t in depth_timestamps)\n",
    "            pose_ctr += int(t in pose_timestamps)\n",
    "\n",
    "        #     if int(t in depth_timestamps):\n",
    "        #         print(t)\n",
    "\n",
    "        # assert(depth_ctr == len(rgb_timestamps))\n",
    "        # assert(pose_ctr == len(rgb_timestamps))\n",
    "\n",
    "        task_timestamps = getTaskList(list(gt_3d_dict.keys()), lower_t_bound, upper_t_bound)\n",
    "    \n",
    "\n",
    "        for test_t_stamp in tqdm(task_timestamps):\n",
    "\n",
    "                try:\n",
    "                    rgb_file = rgb_path + \"/\" + str(test_t_stamp) + '.jpg'\n",
    "                    depth_file = depth_path + \"/\" + str(test_t_stamp) + '.pgm'\n",
    "                    odom_pose = [float(i) for i in pose_dict[test_t_stamp]]\n",
    "                    gt_3d_poses = gt_3d_dict[test_t_stamp]\n",
    "                    gt_2d_poses = gt_2d_dict[test_t_stamp]\n",
    "\n",
    "\n",
    "                    #  Run\n",
    "                    [result, poses] = analyser.run(rgb_file, depth_file, odom_pose)\n",
    "\n",
    "                    total_possible_3d_matches += len(gt_3d_poses)\n",
    "                    total_possible_2d_matches += len(gt_2d_poses)\n",
    "\n",
    "                    # 3D position checking         \n",
    "                    for pose in poses:\n",
    "                        [match, min_dist] = isMatch(gt_3d_poses, pose)\n",
    "                        num_3d_matches += int(match)\n",
    "                        num_3d_not_matches += int(not(match))\n",
    "            #             if not(match):\n",
    "            #                 print([test_t_stamp, min_dist])\n",
    "                        min_dist_errors.append([match, min_dist])\n",
    "\n",
    "                    if len(poses) > len(gt_3d_poses):\n",
    "                        print(\"Video: {0} \\t t_stamp: {1}\".format(vid, test_t_stamp))\n",
    "                        num_extra += len(poses) - len(gt_3d_poses)\n",
    "\n",
    "                    if len(gt_3d_poses) > len(poses):\n",
    "                        num_missed += len(gt_3d_poses) - len(poses)\n",
    "\n",
    "                    # 2D bbox checking\n",
    "                    boxes = result.pred_boxes if result.has(\"pred_boxes\") else None\n",
    "                    img_matches = 0\n",
    "                    for i, (x1, y1, x2, y2) in enumerate(boxes):\n",
    "\n",
    "                                bb1 = {'x1': x1, 'x2': x2, 'y1': y1, 'y2': y2}\n",
    "                                max_iou = 0\n",
    "                                for inst in gt_2d_poses:\n",
    "                                    gt_bb = {'x1': int(inst[1]), \n",
    "                                             'x2': int(inst[1]) + int(inst[3]), \n",
    "                                             'y1': int(inst[2]), \n",
    "                                             'y2': int(inst[2]) + int(inst[4])}\n",
    "\n",
    "                                    iou = get_iou(bb1, gt_bb)\n",
    "                                    max_iou = max(max_iou, iou)\n",
    "\n",
    "                                img_matches += int(max_iou >= 0.5)\n",
    "                    num_2d_matches += max(img_matches, len(gt_3d_poses))\n",
    "                except:\n",
    "                    continue\n",
    "\n",
    "    min_dist_errors = np.array(min_dist_errors)\n",
    "\n",
    "    #     np.array\n",
    "    #     # The mean error for associated positions         \n",
    "    mean_assoc_dist_error = np.mean(min_dist_errors[min_dist_errors[:, 0] == 1, 1])\n",
    "\n",
    "    print(\"Task {0} \\t \\\n",
    "          Num 3d matches:{1} \\t Num 2d matches:{2} \\t \\\n",
    "          2d rate:{3} \\t 3d rate: {4} \\t \\\n",
    "          mean_error(m): {5} \\t \\\n",
    "          fn: {6} \\t fp: {7}\".format(task, \n",
    "                                      num_3d_matches, \n",
    "                                      num_2d_matches, \n",
    "                                      (num_2d_matches-num_extra-num_missed)/total_possible_2d_matches,\n",
    "                                     (num_3d_matches-num_extra-num_missed)/total_possible_3d_matches,\n",
    "                                      mean_assoc_dist_error,\n",
    "                                    num_missed/total_possible_2d_matches,\n",
    "                                     num_extra/total_possible_2d_matches\n",
    "                                        ))"
   ]
  },
  {
   "cell_type": "code",
   "execution_count": null,
   "id": "b195bdda",
   "metadata": {},
   "outputs": [],
   "source": [
    "task_timestamps"
   ]
  },
  {
   "cell_type": "code",
   "execution_count": null,
   "id": "b5c24149",
   "metadata": {},
   "outputs": [],
   "source": [
    "# for i in sorted(list(gt_2d_dict.keys())):\n",
    "#     print(i)\n",
    "\n",
    "# sorted_tstamps = [float(i) for i in list(gt_2d_dict.keys())]\n",
    "# sorted_tstamps = sorted(sorted_tstamps, key=float)\n",
    "# plt.scatter(sorted_tstamps, np.ones(len(sorted_tstamps)))\n",
    "# plt.show()\n",
    "# for i in sorted_tstamps:\n",
    "#     print(i)"
   ]
  },
  {
   "cell_type": "code",
   "execution_count": null,
   "id": "b9f74b44",
   "metadata": {},
   "outputs": [],
   "source": [
    "\n",
    "for offset in [125]:\n",
    "# for offset in [0, 50, 75, 100, 125, 150]:\n",
    "    analyser = KTPAnalyser(depth_offset=offset)\n",
    "    total_possible_3d_matches = 0\n",
    "    total_possible_2d_matches = 0\n",
    "    num_3d_matches = 0\n",
    "    num_2d_matches = 0\n",
    "    min_dist_errors = []\n",
    "    # t_stamps_with_3d_gt = \n",
    "    num_extra = 0 \n",
    "    num_missed = 0\n",
    "    num_3d_not_matches = 0\n",
    "    # for test_t_stamp in list(gt_3d_dict.keys()):\n",
    "#     for test_t_stamp in ['1339064321.890846829']:\n",
    "    for test_t_stamp in tqdm(list(gt_3d_dict.keys())):\n",
    "\n",
    "        try:\n",
    "            rgb_file = rgb_path + \"/\" + str(test_t_stamp) + '.jpg'\n",
    "            depth_file = depth_path + \"/\" + str(test_t_stamp) + '.pgm'\n",
    "            odom_pose = [float(i) for i in pose_dict[test_t_stamp]]\n",
    "            gt_3d_poses = gt_3d_dict[test_t_stamp]\n",
    "            gt_2d_poses = gt_2d_dict[test_t_stamp]\n",
    "\n",
    "\n",
    "            #  Run\n",
    "            [result, poses] = analyser.run(rgb_file, depth_file, odom_pose)\n",
    "\n",
    "            total_possible_3d_matches += len(gt_3d_poses)\n",
    "            total_possible_2d_matches += len(gt_2d_poses)\n",
    "\n",
    "            # 3D position checking         \n",
    "            for pose in poses:\n",
    "                [match, min_dist] = isMatch(gt_3d_poses, pose)\n",
    "                num_3d_matches += int(match)\n",
    "                num_3d_not_matches += int(not(match))\n",
    "    #             if not(match):\n",
    "    #                 print([test_t_stamp, min_dist])\n",
    "                min_dist_errors.append([match, min_dist])\n",
    "\n",
    "            if len(poses) > len(gt_3d_poses):\n",
    "                num_extra += len(poses) - len(gt_3d_poses)\n",
    "\n",
    "            if len(gt_3d_poses) > len(poses):\n",
    "                num_missed += len(gt_3d_poses) - len(poses)\n",
    "\n",
    "            # 2D bbox checking\n",
    "            boxes = result.pred_boxes if result.has(\"pred_boxes\") else None\n",
    "            img_matches = 0\n",
    "            for i, (x1, y1, x2, y2) in enumerate(boxes):\n",
    "\n",
    "                        bb1 = {'x1': x1, 'x2': x2, 'y1': y1, 'y2': y2}\n",
    "                        max_iou = 0\n",
    "                        for inst in gt_2d_poses:\n",
    "                            gt_bb = {'x1': int(inst[1]), \n",
    "                                     'x2': int(inst[1]) + int(inst[3]), \n",
    "                                     'y1': int(inst[2]), \n",
    "                                     'y2': int(inst[2]) + int(inst[4])}\n",
    "\n",
    "                            iou = get_iou(bb1, gt_bb)\n",
    "                            max_iou = max(max_iou, iou)\n",
    "\n",
    "                        img_matches += int(max_iou >= 0.5)\n",
    "            num_2d_matches += max(img_matches, len(gt_3d_poses))\n",
    "        except:\n",
    "            continue\n",
    "            \n",
    "    min_dist_errors = np.array(min_dist_errors)\n",
    "\n",
    "#     np.array\n",
    "#     # The mean error for associated positions         \n",
    "    mean_assoc_dist_error = np.mean(min_dist_errors[min_dist_errors[:, 0] == 1, 1])\n",
    "        \n",
    "    print(\"Offset {0} \\t  \\\n",
    "          Num 3d matches:{1} \\t Num 2d matches:{2} \\t \\\n",
    "          2d rate:{3} \\t 3d rate: {4} \\t \\\n",
    "          mean_error(m): {5} \\t \\\n",
    "          fn: {6} \\t fp: {7}\".format(offset, \n",
    "                                              num_3d_matches, \n",
    "                                              num_2d_matches, \n",
    "                                              (num_2d_matches-num_extra-num_missed)/total_possible_2d_matches,\n",
    "                                             (num_3d_matches-num_extra-num_missed)/total_possible_3d_matches,\n",
    "                                              mean_assoc_dist_error,\n",
    "                                            num_missed/total_possible_2d_matches,\n",
    "                                             num_extra/total_possible_2d_matches\n",
    "                                                ))       "
   ]
  },
  {
   "cell_type": "markdown",
   "id": "8e27febe",
   "metadata": {},
   "source": [
    "# Task First Loop"
   ]
  },
  {
   "cell_type": "code",
   "execution_count": null,
   "id": "155bd256",
   "metadata": {},
   "outputs": [],
   "source": [
    "dataset_folder = \"/root/KTP_Dataset_Text\";\n",
    "image_folder = dataset_folder + \"/images\";\n",
    "ground_truth_folder = dataset_folder + \"/ground_truth\";\n",
    "\n",
    "\n",
    "videos = ['Still', 'Rotation', 'Translation', 'Arc']\n",
    "\n",
    "for vid in videos:\n",
    "\n",
    "    rgb_path = image_folder + \"/\" + vid + \"/rgb\"\n",
    "    depth_path = image_folder + \"/\" + vid + \"/depth\"\n",
    "    odom_path = ground_truth_folder + \"/\" + vid + \"_robot_pose.txt\"\n",
    "\n",
    "    pos3d_path = ground_truth_folder + \"/\" + vid + \"_gt3D.txt\"\n",
    "    pos2d_path = ground_truth_folder + \"/\" + vid + \"_gt2D.txt\"\n",
    "\n",
    "    rgb_files = [f for f in listdir(rgb_path) if isfile(join(rgb_path, f))]\n",
    "    depth_files = [f for f in listdir(depth_path) if isfile(join(depth_path, f))]\n",
    "\n",
    "    pose_dict = {}\n",
    "    with open(odom_path, 'r') as fd:\n",
    "        reader = csv.reader(fd)\n",
    "        for row in reader:\n",
    "            arr = row[0].split(' ')\n",
    "            pose_dict[arr[0].strip(':')] = arr[1:]\n",
    "\n",
    "    gt_3d_dict = {}\n",
    "    with open(pos3d_path, 'r') as fd:\n",
    "        reader = csv.reader(fd)\n",
    "        for row in reader:\n",
    "            if len(row) > 1:\n",
    "                row = row[0:-1]\n",
    "                t_stamp = row[0].split(' ')[0].strip(':')\n",
    "\n",
    "                markers = []\n",
    "\n",
    "                for i in range(len(row)):\n",
    "                    markers.append(row[i].split(' ')[1:])\n",
    "\n",
    "                gt_3d_dict[t_stamp] = markers\n",
    "\n",
    "    gt_2d_dict = {}\n",
    "    with open(pos2d_path, 'r') as fd:\n",
    "        reader = csv.reader(fd)\n",
    "        for row in reader:\n",
    "            if len(row) > 1:\n",
    "                row = row[0:-1]\n",
    "                t_stamp = row[0].split(' ')[0].strip(':')\n",
    "\n",
    "                markers = []\n",
    "\n",
    "                for i in range(len(row)):\n",
    "                    markers.append(row[i].split(' ')[1:])\n",
    "\n",
    "                gt_2d_dict[t_stamp] = markers\n",
    "\n",
    "    rgb_timestamps = [img.strip('.jpg') for img in rgb_files]\n",
    "    depth_timestamps = [img.strip('.pgm') for img in depth_files]\n",
    "    pose_timestamps = list(pose_dict.keys())\n",
    "\n",
    "    # Check that all rgb, depth and odom timetsamps match \n",
    "    depth_ctr = 0 \n",
    "    pose_ctr = 0 \n",
    "    for t in rgb_timestamps:\n",
    "        depth_ctr += int(t in depth_timestamps)\n",
    "        pose_ctr += int(t in pose_timestamps)\n",
    "\n",
    "        #     if int(t in depth_timestamps):\n",
    "        #         print(t)\n",
    "\n",
    "        # assert(depth_ctr == len(rgb_timestamps))\n",
    "        # assert(pose_ctr == len(rgb_timestamps))\n",
    "    \n",
    "    for task in range(5):\n",
    "        lower_t_bound = timestamp_bounds_dict[vid][task][0]\n",
    "        upper_t_bound = timestamp_bounds_dict[vid][task][1]\n",
    "        \n",
    "        task_timestamps = getTaskList(list(gt_3d_dict.keys()), lower_t_bound, upper_t_bound)\n",
    "\n",
    "        for offset in [125]:\n",
    "        # for offset in [0, 50, 75, 100, 125, 150]:\n",
    "            analyser = KTPAnalyser(depth_offset=offset)\n",
    "            total_possible_3d_matches = 0\n",
    "            total_possible_2d_matches = 0\n",
    "            num_3d_matches = 0\n",
    "            num_2d_matches = 0\n",
    "            min_dist_errors = []\n",
    "            # t_stamps_with_3d_gt = \n",
    "            num_extra = 0 \n",
    "            num_missed = 0\n",
    "            num_3d_not_matches = 0\n",
    "            # for test_t_stamp in list(gt_3d_dict.keys()):\n",
    "        #     for test_t_stamp in ['1339064321.890846829']:\n",
    "            for test_t_stamp in tqdm(task_timestamps):\n",
    "\n",
    "                try:\n",
    "                    rgb_file = rgb_path + \"/\" + str(test_t_stamp) + '.jpg'\n",
    "                    depth_file = depth_path + \"/\" + str(test_t_stamp) + '.pgm'\n",
    "                    odom_pose = [float(i) for i in pose_dict[test_t_stamp]]\n",
    "                    gt_3d_poses = gt_3d_dict[test_t_stamp]\n",
    "                    gt_2d_poses = gt_2d_dict[test_t_stamp]\n",
    "\n",
    "\n",
    "                    #  Run\n",
    "                    [result, poses] = analyser.run(rgb_file, depth_file, odom_pose)\n",
    "\n",
    "                    total_possible_3d_matches += len(gt_3d_poses)\n",
    "                    total_possible_2d_matches += len(gt_2d_poses)\n",
    "\n",
    "                    # 3D position checking         \n",
    "                    for pose in poses:\n",
    "                        [match, min_dist] = isMatch(gt_3d_poses, pose)\n",
    "                        num_3d_matches += int(match)\n",
    "                        num_3d_not_matches += int(not(match))\n",
    "            #             if not(match):\n",
    "            #                 print([test_t_stamp, min_dist])\n",
    "                        min_dist_errors.append([match, min_dist])\n",
    "\n",
    "                    if len(poses) > len(gt_3d_poses):\n",
    "                        num_extra += len(poses) - len(gt_3d_poses)\n",
    "\n",
    "                    if len(gt_3d_poses) > len(poses):\n",
    "                        num_missed += len(gt_3d_poses) - len(poses)\n",
    "\n",
    "                    # 2D bbox checking\n",
    "                    boxes = result.pred_boxes if result.has(\"pred_boxes\") else None\n",
    "                    img_matches = 0\n",
    "                    for i, (x1, y1, x2, y2) in enumerate(boxes):\n",
    "\n",
    "                                bb1 = {'x1': x1, 'x2': x2, 'y1': y1, 'y2': y2}\n",
    "                                max_iou = 0\n",
    "                                for inst in gt_2d_poses:\n",
    "                                    gt_bb = {'x1': int(inst[1]), \n",
    "                                             'x2': int(inst[1]) + int(inst[3]), \n",
    "                                             'y1': int(inst[2]), \n",
    "                                             'y2': int(inst[2]) + int(inst[4])}\n",
    "\n",
    "                                    iou = get_iou(bb1, gt_bb)\n",
    "                                    max_iou = max(max_iou, iou)\n",
    "\n",
    "                                img_matches += int(max_iou >= 0.5)\n",
    "                    num_2d_matches += max(img_matches, len(gt_3d_poses))\n",
    "                except:\n",
    "                    continue\n",
    "\n",
    "            min_dist_errors = np.array(min_dist_errors)\n",
    "\n",
    "        #     np.array\n",
    "        #     # The mean error for associated positions         \n",
    "            mean_assoc_dist_error = np.mean(min_dist_errors[min_dist_errors[:, 0] == 1, 1])\n",
    "\n",
    "            print(\"Video {0} \\t  Task {1}\\\n",
    "                  Num 3d matches:{2} \\t Num 2d matches:{3} \\t \\\n",
    "                  2d rate:{4} \\t 3d rate: {5} \\t \\\n",
    "                  mean_error(m): {6} \\t \\\n",
    "                  fn: {7} \\t fp: {8}\".format(vid, task, \n",
    "                                                      num_3d_matches, \n",
    "                                                      num_2d_matches, \n",
    "                                                      (num_2d_matches-num_extra-num_missed)/total_possible_2d_matches,\n",
    "                                                     (num_3d_matches-num_extra-num_missed)/total_possible_3d_matches,\n",
    "                                                      mean_assoc_dist_error,\n",
    "                                                    num_missed/total_possible_2d_matches,\n",
    "                                                     num_extra/total_possible_2d_matches\n",
    "                                                        ))       "
   ]
  }
 ],
 "metadata": {
  "kernelspec": {
   "display_name": "Python 3",
   "language": "python",
   "name": "python3"
  },
  "language_info": {
   "codemirror_mode": {
    "name": "ipython",
    "version": 3
   },
   "file_extension": ".py",
   "mimetype": "text/x-python",
   "name": "python",
   "nbconvert_exporter": "python",
   "pygments_lexer": "ipython3",
   "version": "3.6.9"
  }
 },
 "nbformat": 4,
 "nbformat_minor": 5
}
